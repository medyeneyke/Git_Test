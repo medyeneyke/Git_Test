{
  "nbformat": 4,
  "nbformat_minor": 0,
  "metadata": {
    "colab": {
      "provenance": [],
      "authorship_tag": "ABX9TyO0nauvemcI2We0ijtuuJLI",
      "include_colab_link": true
    },
    "kernelspec": {
      "name": "python3",
      "display_name": "Python 3"
    },
    "language_info": {
      "name": "python"
    }
  },
  "cells": [
    {
      "cell_type": "markdown",
      "metadata": {
        "id": "view-in-github",
        "colab_type": "text"
      },
      "source": [
        "<a href=\"https://colab.research.google.com/github/medyeneyke/Git_Test/blob/master/Capstone_Project_Predicting_BMI_Using_Regression_Techniques.ipynb\" target=\"_parent\"><img src=\"https://colab.research.google.com/assets/colab-badge.svg\" alt=\"Open In Colab\"/></a>"
      ]
    },
    {
      "cell_type": "code",
      "source": [
        "# Imports\n",
        "import pandas as pd\n",
        "import numpy as np\n",
        "import matplotlib.pyplot as plt\n",
        "import seaborn as sns\n",
        "from sklearn.model_selection import train_test_split, GridSearchCV, cross_val_score\n",
        "from sklearn.preprocessing import StandardScaler, OneHotEncoder\n",
        "from sklearn.compose import ColumnTransformer\n",
        "from sklearn.pipeline import Pipeline\n",
        "from sklearn.linear_model import LinearRegression, Ridge, Lasso, ElasticNet\n",
        "from sklearn.metrics import r2_score, mean_absolute_error, mean_squared_error\n",
        "from statsmodels.stats.outliers_influence import variance_inflation_factor\n",
        "import statsmodels.api as sm\n",
        "import warnings\n",
        "warnings.filterwarnings(\"ignore\")"
      ],
      "metadata": {
        "id": "nhdn7DV87Jkx"
      },
      "execution_count": null,
      "outputs": []
    },
    {
      "cell_type": "code",
      "execution_count": 1,
      "metadata": {
        "colab": {
          "base_uri": "https://localhost:8080/",
          "height": 73
        },
        "id": "yLr0qUmR14TP",
        "outputId": "9512493d-3bd8-440f-af4a-54b5d8a08cc9"
      },
      "outputs": [
        {
          "output_type": "display_data",
          "data": {
            "text/plain": [
              "<IPython.core.display.HTML object>"
            ],
            "text/html": [
              "\n",
              "     <input type=\"file\" id=\"files-eeb73b20-aff7-4da8-8d42-43a49afbc2f0\" name=\"files[]\" multiple disabled\n",
              "        style=\"border:none\" />\n",
              "     <output id=\"result-eeb73b20-aff7-4da8-8d42-43a49afbc2f0\">\n",
              "      Upload widget is only available when the cell has been executed in the\n",
              "      current browser session. Please rerun this cell to enable.\n",
              "      </output>\n",
              "      <script>// Copyright 2017 Google LLC\n",
              "//\n",
              "// Licensed under the Apache License, Version 2.0 (the \"License\");\n",
              "// you may not use this file except in compliance with the License.\n",
              "// You may obtain a copy of the License at\n",
              "//\n",
              "//      http://www.apache.org/licenses/LICENSE-2.0\n",
              "//\n",
              "// Unless required by applicable law or agreed to in writing, software\n",
              "// distributed under the License is distributed on an \"AS IS\" BASIS,\n",
              "// WITHOUT WARRANTIES OR CONDITIONS OF ANY KIND, either express or implied.\n",
              "// See the License for the specific language governing permissions and\n",
              "// limitations under the License.\n",
              "\n",
              "/**\n",
              " * @fileoverview Helpers for google.colab Python module.\n",
              " */\n",
              "(function(scope) {\n",
              "function span(text, styleAttributes = {}) {\n",
              "  const element = document.createElement('span');\n",
              "  element.textContent = text;\n",
              "  for (const key of Object.keys(styleAttributes)) {\n",
              "    element.style[key] = styleAttributes[key];\n",
              "  }\n",
              "  return element;\n",
              "}\n",
              "\n",
              "// Max number of bytes which will be uploaded at a time.\n",
              "const MAX_PAYLOAD_SIZE = 100 * 1024;\n",
              "\n",
              "function _uploadFiles(inputId, outputId) {\n",
              "  const steps = uploadFilesStep(inputId, outputId);\n",
              "  const outputElement = document.getElementById(outputId);\n",
              "  // Cache steps on the outputElement to make it available for the next call\n",
              "  // to uploadFilesContinue from Python.\n",
              "  outputElement.steps = steps;\n",
              "\n",
              "  return _uploadFilesContinue(outputId);\n",
              "}\n",
              "\n",
              "// This is roughly an async generator (not supported in the browser yet),\n",
              "// where there are multiple asynchronous steps and the Python side is going\n",
              "// to poll for completion of each step.\n",
              "// This uses a Promise to block the python side on completion of each step,\n",
              "// then passes the result of the previous step as the input to the next step.\n",
              "function _uploadFilesContinue(outputId) {\n",
              "  const outputElement = document.getElementById(outputId);\n",
              "  const steps = outputElement.steps;\n",
              "\n",
              "  const next = steps.next(outputElement.lastPromiseValue);\n",
              "  return Promise.resolve(next.value.promise).then((value) => {\n",
              "    // Cache the last promise value to make it available to the next\n",
              "    // step of the generator.\n",
              "    outputElement.lastPromiseValue = value;\n",
              "    return next.value.response;\n",
              "  });\n",
              "}\n",
              "\n",
              "/**\n",
              " * Generator function which is called between each async step of the upload\n",
              " * process.\n",
              " * @param {string} inputId Element ID of the input file picker element.\n",
              " * @param {string} outputId Element ID of the output display.\n",
              " * @return {!Iterable<!Object>} Iterable of next steps.\n",
              " */\n",
              "function* uploadFilesStep(inputId, outputId) {\n",
              "  const inputElement = document.getElementById(inputId);\n",
              "  inputElement.disabled = false;\n",
              "\n",
              "  const outputElement = document.getElementById(outputId);\n",
              "  outputElement.innerHTML = '';\n",
              "\n",
              "  const pickedPromise = new Promise((resolve) => {\n",
              "    inputElement.addEventListener('change', (e) => {\n",
              "      resolve(e.target.files);\n",
              "    });\n",
              "  });\n",
              "\n",
              "  const cancel = document.createElement('button');\n",
              "  inputElement.parentElement.appendChild(cancel);\n",
              "  cancel.textContent = 'Cancel upload';\n",
              "  const cancelPromise = new Promise((resolve) => {\n",
              "    cancel.onclick = () => {\n",
              "      resolve(null);\n",
              "    };\n",
              "  });\n",
              "\n",
              "  // Wait for the user to pick the files.\n",
              "  const files = yield {\n",
              "    promise: Promise.race([pickedPromise, cancelPromise]),\n",
              "    response: {\n",
              "      action: 'starting',\n",
              "    }\n",
              "  };\n",
              "\n",
              "  cancel.remove();\n",
              "\n",
              "  // Disable the input element since further picks are not allowed.\n",
              "  inputElement.disabled = true;\n",
              "\n",
              "  if (!files) {\n",
              "    return {\n",
              "      response: {\n",
              "        action: 'complete',\n",
              "      }\n",
              "    };\n",
              "  }\n",
              "\n",
              "  for (const file of files) {\n",
              "    const li = document.createElement('li');\n",
              "    li.append(span(file.name, {fontWeight: 'bold'}));\n",
              "    li.append(span(\n",
              "        `(${file.type || 'n/a'}) - ${file.size} bytes, ` +\n",
              "        `last modified: ${\n",
              "            file.lastModifiedDate ? file.lastModifiedDate.toLocaleDateString() :\n",
              "                                    'n/a'} - `));\n",
              "    const percent = span('0% done');\n",
              "    li.appendChild(percent);\n",
              "\n",
              "    outputElement.appendChild(li);\n",
              "\n",
              "    const fileDataPromise = new Promise((resolve) => {\n",
              "      const reader = new FileReader();\n",
              "      reader.onload = (e) => {\n",
              "        resolve(e.target.result);\n",
              "      };\n",
              "      reader.readAsArrayBuffer(file);\n",
              "    });\n",
              "    // Wait for the data to be ready.\n",
              "    let fileData = yield {\n",
              "      promise: fileDataPromise,\n",
              "      response: {\n",
              "        action: 'continue',\n",
              "      }\n",
              "    };\n",
              "\n",
              "    // Use a chunked sending to avoid message size limits. See b/62115660.\n",
              "    let position = 0;\n",
              "    do {\n",
              "      const length = Math.min(fileData.byteLength - position, MAX_PAYLOAD_SIZE);\n",
              "      const chunk = new Uint8Array(fileData, position, length);\n",
              "      position += length;\n",
              "\n",
              "      const base64 = btoa(String.fromCharCode.apply(null, chunk));\n",
              "      yield {\n",
              "        response: {\n",
              "          action: 'append',\n",
              "          file: file.name,\n",
              "          data: base64,\n",
              "        },\n",
              "      };\n",
              "\n",
              "      let percentDone = fileData.byteLength === 0 ?\n",
              "          100 :\n",
              "          Math.round((position / fileData.byteLength) * 100);\n",
              "      percent.textContent = `${percentDone}% done`;\n",
              "\n",
              "    } while (position < fileData.byteLength);\n",
              "  }\n",
              "\n",
              "  // All done.\n",
              "  yield {\n",
              "    response: {\n",
              "      action: 'complete',\n",
              "    }\n",
              "  };\n",
              "}\n",
              "\n",
              "scope.google = scope.google || {};\n",
              "scope.google.colab = scope.google.colab || {};\n",
              "scope.google.colab._files = {\n",
              "  _uploadFiles,\n",
              "  _uploadFilesContinue,\n",
              "};\n",
              "})(self);\n",
              "</script> "
            ]
          },
          "metadata": {}
        },
        {
          "output_type": "stream",
          "name": "stdout",
          "text": [
            "Saving 500_Person_Gender_Height_Weight_Index.csv to 500_Person_Gender_Height_Weight_Index.csv\n"
          ]
        }
      ],
      "source": [
        "# Load the dataset\n",
        "from google.colab import files\n",
        "uploaded = files.upload()"
      ]
    },
    {
      "cell_type": "code",
      "source": [
        "# Read the path\n",
        "df = pd.read_csv(\"500_Person_Gender_Height_Weight_Index.csv\")\n",
        "df.head()\n"
      ],
      "metadata": {
        "colab": {
          "base_uri": "https://localhost:8080/",
          "height": 206
        },
        "id": "kX6hn4Vz6Qwj",
        "outputId": "3871f66e-f716-41c9-be5c-2609837bd671"
      },
      "execution_count": null,
      "outputs": [
        {
          "output_type": "execute_result",
          "data": {
            "text/plain": [
              "   Gender  Height  Weight  Index\n",
              "0    Male     174      96      4\n",
              "1    Male     189      87      2\n",
              "2  Female     185     110      4\n",
              "3  Female     195     104      3\n",
              "4    Male     149      61      3"
            ],
            "text/html": [
              "\n",
              "  <div id=\"df-250389bc-dd5a-41a5-8381-08ca86a02deb\" class=\"colab-df-container\">\n",
              "    <div>\n",
              "<style scoped>\n",
              "    .dataframe tbody tr th:only-of-type {\n",
              "        vertical-align: middle;\n",
              "    }\n",
              "\n",
              "    .dataframe tbody tr th {\n",
              "        vertical-align: top;\n",
              "    }\n",
              "\n",
              "    .dataframe thead th {\n",
              "        text-align: right;\n",
              "    }\n",
              "</style>\n",
              "<table border=\"1\" class=\"dataframe\">\n",
              "  <thead>\n",
              "    <tr style=\"text-align: right;\">\n",
              "      <th></th>\n",
              "      <th>Gender</th>\n",
              "      <th>Height</th>\n",
              "      <th>Weight</th>\n",
              "      <th>Index</th>\n",
              "    </tr>\n",
              "  </thead>\n",
              "  <tbody>\n",
              "    <tr>\n",
              "      <th>0</th>\n",
              "      <td>Male</td>\n",
              "      <td>174</td>\n",
              "      <td>96</td>\n",
              "      <td>4</td>\n",
              "    </tr>\n",
              "    <tr>\n",
              "      <th>1</th>\n",
              "      <td>Male</td>\n",
              "      <td>189</td>\n",
              "      <td>87</td>\n",
              "      <td>2</td>\n",
              "    </tr>\n",
              "    <tr>\n",
              "      <th>2</th>\n",
              "      <td>Female</td>\n",
              "      <td>185</td>\n",
              "      <td>110</td>\n",
              "      <td>4</td>\n",
              "    </tr>\n",
              "    <tr>\n",
              "      <th>3</th>\n",
              "      <td>Female</td>\n",
              "      <td>195</td>\n",
              "      <td>104</td>\n",
              "      <td>3</td>\n",
              "    </tr>\n",
              "    <tr>\n",
              "      <th>4</th>\n",
              "      <td>Male</td>\n",
              "      <td>149</td>\n",
              "      <td>61</td>\n",
              "      <td>3</td>\n",
              "    </tr>\n",
              "  </tbody>\n",
              "</table>\n",
              "</div>\n",
              "    <div class=\"colab-df-buttons\">\n",
              "\n",
              "  <div class=\"colab-df-container\">\n",
              "    <button class=\"colab-df-convert\" onclick=\"convertToInteractive('df-250389bc-dd5a-41a5-8381-08ca86a02deb')\"\n",
              "            title=\"Convert this dataframe to an interactive table.\"\n",
              "            style=\"display:none;\">\n",
              "\n",
              "  <svg xmlns=\"http://www.w3.org/2000/svg\" height=\"24px\" viewBox=\"0 -960 960 960\">\n",
              "    <path d=\"M120-120v-720h720v720H120Zm60-500h600v-160H180v160Zm220 220h160v-160H400v160Zm0 220h160v-160H400v160ZM180-400h160v-160H180v160Zm440 0h160v-160H620v160ZM180-180h160v-160H180v160Zm440 0h160v-160H620v160Z\"/>\n",
              "  </svg>\n",
              "    </button>\n",
              "\n",
              "  <style>\n",
              "    .colab-df-container {\n",
              "      display:flex;\n",
              "      gap: 12px;\n",
              "    }\n",
              "\n",
              "    .colab-df-convert {\n",
              "      background-color: #E8F0FE;\n",
              "      border: none;\n",
              "      border-radius: 50%;\n",
              "      cursor: pointer;\n",
              "      display: none;\n",
              "      fill: #1967D2;\n",
              "      height: 32px;\n",
              "      padding: 0 0 0 0;\n",
              "      width: 32px;\n",
              "    }\n",
              "\n",
              "    .colab-df-convert:hover {\n",
              "      background-color: #E2EBFA;\n",
              "      box-shadow: 0px 1px 2px rgba(60, 64, 67, 0.3), 0px 1px 3px 1px rgba(60, 64, 67, 0.15);\n",
              "      fill: #174EA6;\n",
              "    }\n",
              "\n",
              "    .colab-df-buttons div {\n",
              "      margin-bottom: 4px;\n",
              "    }\n",
              "\n",
              "    [theme=dark] .colab-df-convert {\n",
              "      background-color: #3B4455;\n",
              "      fill: #D2E3FC;\n",
              "    }\n",
              "\n",
              "    [theme=dark] .colab-df-convert:hover {\n",
              "      background-color: #434B5C;\n",
              "      box-shadow: 0px 1px 3px 1px rgba(0, 0, 0, 0.15);\n",
              "      filter: drop-shadow(0px 1px 2px rgba(0, 0, 0, 0.3));\n",
              "      fill: #FFFFFF;\n",
              "    }\n",
              "  </style>\n",
              "\n",
              "    <script>\n",
              "      const buttonEl =\n",
              "        document.querySelector('#df-250389bc-dd5a-41a5-8381-08ca86a02deb button.colab-df-convert');\n",
              "      buttonEl.style.display =\n",
              "        google.colab.kernel.accessAllowed ? 'block' : 'none';\n",
              "\n",
              "      async function convertToInteractive(key) {\n",
              "        const element = document.querySelector('#df-250389bc-dd5a-41a5-8381-08ca86a02deb');\n",
              "        const dataTable =\n",
              "          await google.colab.kernel.invokeFunction('convertToInteractive',\n",
              "                                                    [key], {});\n",
              "        if (!dataTable) return;\n",
              "\n",
              "        const docLinkHtml = 'Like what you see? Visit the ' +\n",
              "          '<a target=\"_blank\" href=https://colab.research.google.com/notebooks/data_table.ipynb>data table notebook</a>'\n",
              "          + ' to learn more about interactive tables.';\n",
              "        element.innerHTML = '';\n",
              "        dataTable['output_type'] = 'display_data';\n",
              "        await google.colab.output.renderOutput(dataTable, element);\n",
              "        const docLink = document.createElement('div');\n",
              "        docLink.innerHTML = docLinkHtml;\n",
              "        element.appendChild(docLink);\n",
              "      }\n",
              "    </script>\n",
              "  </div>\n",
              "\n",
              "\n",
              "    <div id=\"df-ab0bc133-9e46-49f1-8e7d-be3c190158cb\">\n",
              "      <button class=\"colab-df-quickchart\" onclick=\"quickchart('df-ab0bc133-9e46-49f1-8e7d-be3c190158cb')\"\n",
              "                title=\"Suggest charts\"\n",
              "                style=\"display:none;\">\n",
              "\n",
              "<svg xmlns=\"http://www.w3.org/2000/svg\" height=\"24px\"viewBox=\"0 0 24 24\"\n",
              "     width=\"24px\">\n",
              "    <g>\n",
              "        <path d=\"M19 3H5c-1.1 0-2 .9-2 2v14c0 1.1.9 2 2 2h14c1.1 0 2-.9 2-2V5c0-1.1-.9-2-2-2zM9 17H7v-7h2v7zm4 0h-2V7h2v10zm4 0h-2v-4h2v4z\"/>\n",
              "    </g>\n",
              "</svg>\n",
              "      </button>\n",
              "\n",
              "<style>\n",
              "  .colab-df-quickchart {\n",
              "      --bg-color: #E8F0FE;\n",
              "      --fill-color: #1967D2;\n",
              "      --hover-bg-color: #E2EBFA;\n",
              "      --hover-fill-color: #174EA6;\n",
              "      --disabled-fill-color: #AAA;\n",
              "      --disabled-bg-color: #DDD;\n",
              "  }\n",
              "\n",
              "  [theme=dark] .colab-df-quickchart {\n",
              "      --bg-color: #3B4455;\n",
              "      --fill-color: #D2E3FC;\n",
              "      --hover-bg-color: #434B5C;\n",
              "      --hover-fill-color: #FFFFFF;\n",
              "      --disabled-bg-color: #3B4455;\n",
              "      --disabled-fill-color: #666;\n",
              "  }\n",
              "\n",
              "  .colab-df-quickchart {\n",
              "    background-color: var(--bg-color);\n",
              "    border: none;\n",
              "    border-radius: 50%;\n",
              "    cursor: pointer;\n",
              "    display: none;\n",
              "    fill: var(--fill-color);\n",
              "    height: 32px;\n",
              "    padding: 0;\n",
              "    width: 32px;\n",
              "  }\n",
              "\n",
              "  .colab-df-quickchart:hover {\n",
              "    background-color: var(--hover-bg-color);\n",
              "    box-shadow: 0 1px 2px rgba(60, 64, 67, 0.3), 0 1px 3px 1px rgba(60, 64, 67, 0.15);\n",
              "    fill: var(--button-hover-fill-color);\n",
              "  }\n",
              "\n",
              "  .colab-df-quickchart-complete:disabled,\n",
              "  .colab-df-quickchart-complete:disabled:hover {\n",
              "    background-color: var(--disabled-bg-color);\n",
              "    fill: var(--disabled-fill-color);\n",
              "    box-shadow: none;\n",
              "  }\n",
              "\n",
              "  .colab-df-spinner {\n",
              "    border: 2px solid var(--fill-color);\n",
              "    border-color: transparent;\n",
              "    border-bottom-color: var(--fill-color);\n",
              "    animation:\n",
              "      spin 1s steps(1) infinite;\n",
              "  }\n",
              "\n",
              "  @keyframes spin {\n",
              "    0% {\n",
              "      border-color: transparent;\n",
              "      border-bottom-color: var(--fill-color);\n",
              "      border-left-color: var(--fill-color);\n",
              "    }\n",
              "    20% {\n",
              "      border-color: transparent;\n",
              "      border-left-color: var(--fill-color);\n",
              "      border-top-color: var(--fill-color);\n",
              "    }\n",
              "    30% {\n",
              "      border-color: transparent;\n",
              "      border-left-color: var(--fill-color);\n",
              "      border-top-color: var(--fill-color);\n",
              "      border-right-color: var(--fill-color);\n",
              "    }\n",
              "    40% {\n",
              "      border-color: transparent;\n",
              "      border-right-color: var(--fill-color);\n",
              "      border-top-color: var(--fill-color);\n",
              "    }\n",
              "    60% {\n",
              "      border-color: transparent;\n",
              "      border-right-color: var(--fill-color);\n",
              "    }\n",
              "    80% {\n",
              "      border-color: transparent;\n",
              "      border-right-color: var(--fill-color);\n",
              "      border-bottom-color: var(--fill-color);\n",
              "    }\n",
              "    90% {\n",
              "      border-color: transparent;\n",
              "      border-bottom-color: var(--fill-color);\n",
              "    }\n",
              "  }\n",
              "</style>\n",
              "\n",
              "      <script>\n",
              "        async function quickchart(key) {\n",
              "          const quickchartButtonEl =\n",
              "            document.querySelector('#' + key + ' button');\n",
              "          quickchartButtonEl.disabled = true;  // To prevent multiple clicks.\n",
              "          quickchartButtonEl.classList.add('colab-df-spinner');\n",
              "          try {\n",
              "            const charts = await google.colab.kernel.invokeFunction(\n",
              "                'suggestCharts', [key], {});\n",
              "          } catch (error) {\n",
              "            console.error('Error during call to suggestCharts:', error);\n",
              "          }\n",
              "          quickchartButtonEl.classList.remove('colab-df-spinner');\n",
              "          quickchartButtonEl.classList.add('colab-df-quickchart-complete');\n",
              "        }\n",
              "        (() => {\n",
              "          let quickchartButtonEl =\n",
              "            document.querySelector('#df-ab0bc133-9e46-49f1-8e7d-be3c190158cb button');\n",
              "          quickchartButtonEl.style.display =\n",
              "            google.colab.kernel.accessAllowed ? 'block' : 'none';\n",
              "        })();\n",
              "      </script>\n",
              "    </div>\n",
              "\n",
              "    </div>\n",
              "  </div>\n"
            ],
            "application/vnd.google.colaboratory.intrinsic+json": {
              "type": "dataframe",
              "variable_name": "df",
              "summary": "{\n  \"name\": \"df\",\n  \"rows\": 500,\n  \"fields\": [\n    {\n      \"column\": \"Gender\",\n      \"properties\": {\n        \"dtype\": \"category\",\n        \"num_unique_values\": 2,\n        \"samples\": [\n          \"Female\",\n          \"Male\"\n        ],\n        \"semantic_type\": \"\",\n        \"description\": \"\"\n      }\n    },\n    {\n      \"column\": \"Height\",\n      \"properties\": {\n        \"dtype\": \"number\",\n        \"std\": 16,\n        \"min\": 140,\n        \"max\": 199,\n        \"num_unique_values\": 60,\n        \"samples\": [\n          174,\n          147\n        ],\n        \"semantic_type\": \"\",\n        \"description\": \"\"\n      }\n    },\n    {\n      \"column\": \"Weight\",\n      \"properties\": {\n        \"dtype\": \"number\",\n        \"std\": 32,\n        \"min\": 50,\n        \"max\": 160,\n        \"num_unique_values\": 110,\n        \"samples\": [\n          124,\n          80\n        ],\n        \"semantic_type\": \"\",\n        \"description\": \"\"\n      }\n    },\n    {\n      \"column\": \"Index\",\n      \"properties\": {\n        \"dtype\": \"number\",\n        \"std\": 1,\n        \"min\": 0,\n        \"max\": 5,\n        \"num_unique_values\": 6,\n        \"samples\": [\n          4,\n          2\n        ],\n        \"semantic_type\": \"\",\n        \"description\": \"\"\n      }\n    }\n  ]\n}"
            }
          },
          "metadata": {},
          "execution_count": 4
        }
      ]
    },
    {
      "cell_type": "code",
      "source": [
        "# Compute BMI\n",
        "df[\"Height_m\"] = df[\"Height\"] / 100\n",
        "df[\"BMI\"] = df[\"Weight\"] / (df[\"Height_m\"] ** 2)\n",
        "df.drop(columns=[\"Index\", \"Height_m\"], inplace=True)\n",
        "\n",
        "print(\"Data shape:\", df.shape)\n",
        "df.head()"
      ],
      "metadata": {
        "colab": {
          "base_uri": "https://localhost:8080/",
          "height": 224
        },
        "id": "FhSNkIPg8Dny",
        "outputId": "4b686d81-5634-4498-80cb-f65f2cf26567"
      },
      "execution_count": null,
      "outputs": [
        {
          "output_type": "stream",
          "name": "stdout",
          "text": [
            "Data shape: (500, 4)\n"
          ]
        },
        {
          "output_type": "execute_result",
          "data": {
            "text/plain": [
              "   Gender  Height  Weight        BMI\n",
              "0    Male     174      96  31.708284\n",
              "1    Male     189      87  24.355421\n",
              "2  Female     185     110  32.140248\n",
              "3  Female     195     104  27.350427\n",
              "4    Male     149      61  27.476240"
            ],
            "text/html": [
              "\n",
              "  <div id=\"df-1a4073e3-c2f8-4b01-a0a0-0ce2f56e491c\" class=\"colab-df-container\">\n",
              "    <div>\n",
              "<style scoped>\n",
              "    .dataframe tbody tr th:only-of-type {\n",
              "        vertical-align: middle;\n",
              "    }\n",
              "\n",
              "    .dataframe tbody tr th {\n",
              "        vertical-align: top;\n",
              "    }\n",
              "\n",
              "    .dataframe thead th {\n",
              "        text-align: right;\n",
              "    }\n",
              "</style>\n",
              "<table border=\"1\" class=\"dataframe\">\n",
              "  <thead>\n",
              "    <tr style=\"text-align: right;\">\n",
              "      <th></th>\n",
              "      <th>Gender</th>\n",
              "      <th>Height</th>\n",
              "      <th>Weight</th>\n",
              "      <th>BMI</th>\n",
              "    </tr>\n",
              "  </thead>\n",
              "  <tbody>\n",
              "    <tr>\n",
              "      <th>0</th>\n",
              "      <td>Male</td>\n",
              "      <td>174</td>\n",
              "      <td>96</td>\n",
              "      <td>31.708284</td>\n",
              "    </tr>\n",
              "    <tr>\n",
              "      <th>1</th>\n",
              "      <td>Male</td>\n",
              "      <td>189</td>\n",
              "      <td>87</td>\n",
              "      <td>24.355421</td>\n",
              "    </tr>\n",
              "    <tr>\n",
              "      <th>2</th>\n",
              "      <td>Female</td>\n",
              "      <td>185</td>\n",
              "      <td>110</td>\n",
              "      <td>32.140248</td>\n",
              "    </tr>\n",
              "    <tr>\n",
              "      <th>3</th>\n",
              "      <td>Female</td>\n",
              "      <td>195</td>\n",
              "      <td>104</td>\n",
              "      <td>27.350427</td>\n",
              "    </tr>\n",
              "    <tr>\n",
              "      <th>4</th>\n",
              "      <td>Male</td>\n",
              "      <td>149</td>\n",
              "      <td>61</td>\n",
              "      <td>27.476240</td>\n",
              "    </tr>\n",
              "  </tbody>\n",
              "</table>\n",
              "</div>\n",
              "    <div class=\"colab-df-buttons\">\n",
              "\n",
              "  <div class=\"colab-df-container\">\n",
              "    <button class=\"colab-df-convert\" onclick=\"convertToInteractive('df-1a4073e3-c2f8-4b01-a0a0-0ce2f56e491c')\"\n",
              "            title=\"Convert this dataframe to an interactive table.\"\n",
              "            style=\"display:none;\">\n",
              "\n",
              "  <svg xmlns=\"http://www.w3.org/2000/svg\" height=\"24px\" viewBox=\"0 -960 960 960\">\n",
              "    <path d=\"M120-120v-720h720v720H120Zm60-500h600v-160H180v160Zm220 220h160v-160H400v160Zm0 220h160v-160H400v160ZM180-400h160v-160H180v160Zm440 0h160v-160H620v160ZM180-180h160v-160H180v160Zm440 0h160v-160H620v160Z\"/>\n",
              "  </svg>\n",
              "    </button>\n",
              "\n",
              "  <style>\n",
              "    .colab-df-container {\n",
              "      display:flex;\n",
              "      gap: 12px;\n",
              "    }\n",
              "\n",
              "    .colab-df-convert {\n",
              "      background-color: #E8F0FE;\n",
              "      border: none;\n",
              "      border-radius: 50%;\n",
              "      cursor: pointer;\n",
              "      display: none;\n",
              "      fill: #1967D2;\n",
              "      height: 32px;\n",
              "      padding: 0 0 0 0;\n",
              "      width: 32px;\n",
              "    }\n",
              "\n",
              "    .colab-df-convert:hover {\n",
              "      background-color: #E2EBFA;\n",
              "      box-shadow: 0px 1px 2px rgba(60, 64, 67, 0.3), 0px 1px 3px 1px rgba(60, 64, 67, 0.15);\n",
              "      fill: #174EA6;\n",
              "    }\n",
              "\n",
              "    .colab-df-buttons div {\n",
              "      margin-bottom: 4px;\n",
              "    }\n",
              "\n",
              "    [theme=dark] .colab-df-convert {\n",
              "      background-color: #3B4455;\n",
              "      fill: #D2E3FC;\n",
              "    }\n",
              "\n",
              "    [theme=dark] .colab-df-convert:hover {\n",
              "      background-color: #434B5C;\n",
              "      box-shadow: 0px 1px 3px 1px rgba(0, 0, 0, 0.15);\n",
              "      filter: drop-shadow(0px 1px 2px rgba(0, 0, 0, 0.3));\n",
              "      fill: #FFFFFF;\n",
              "    }\n",
              "  </style>\n",
              "\n",
              "    <script>\n",
              "      const buttonEl =\n",
              "        document.querySelector('#df-1a4073e3-c2f8-4b01-a0a0-0ce2f56e491c button.colab-df-convert');\n",
              "      buttonEl.style.display =\n",
              "        google.colab.kernel.accessAllowed ? 'block' : 'none';\n",
              "\n",
              "      async function convertToInteractive(key) {\n",
              "        const element = document.querySelector('#df-1a4073e3-c2f8-4b01-a0a0-0ce2f56e491c');\n",
              "        const dataTable =\n",
              "          await google.colab.kernel.invokeFunction('convertToInteractive',\n",
              "                                                    [key], {});\n",
              "        if (!dataTable) return;\n",
              "\n",
              "        const docLinkHtml = 'Like what you see? Visit the ' +\n",
              "          '<a target=\"_blank\" href=https://colab.research.google.com/notebooks/data_table.ipynb>data table notebook</a>'\n",
              "          + ' to learn more about interactive tables.';\n",
              "        element.innerHTML = '';\n",
              "        dataTable['output_type'] = 'display_data';\n",
              "        await google.colab.output.renderOutput(dataTable, element);\n",
              "        const docLink = document.createElement('div');\n",
              "        docLink.innerHTML = docLinkHtml;\n",
              "        element.appendChild(docLink);\n",
              "      }\n",
              "    </script>\n",
              "  </div>\n",
              "\n",
              "\n",
              "    <div id=\"df-db4020e9-9eba-40cc-82e7-6a5958d70165\">\n",
              "      <button class=\"colab-df-quickchart\" onclick=\"quickchart('df-db4020e9-9eba-40cc-82e7-6a5958d70165')\"\n",
              "                title=\"Suggest charts\"\n",
              "                style=\"display:none;\">\n",
              "\n",
              "<svg xmlns=\"http://www.w3.org/2000/svg\" height=\"24px\"viewBox=\"0 0 24 24\"\n",
              "     width=\"24px\">\n",
              "    <g>\n",
              "        <path d=\"M19 3H5c-1.1 0-2 .9-2 2v14c0 1.1.9 2 2 2h14c1.1 0 2-.9 2-2V5c0-1.1-.9-2-2-2zM9 17H7v-7h2v7zm4 0h-2V7h2v10zm4 0h-2v-4h2v4z\"/>\n",
              "    </g>\n",
              "</svg>\n",
              "      </button>\n",
              "\n",
              "<style>\n",
              "  .colab-df-quickchart {\n",
              "      --bg-color: #E8F0FE;\n",
              "      --fill-color: #1967D2;\n",
              "      --hover-bg-color: #E2EBFA;\n",
              "      --hover-fill-color: #174EA6;\n",
              "      --disabled-fill-color: #AAA;\n",
              "      --disabled-bg-color: #DDD;\n",
              "  }\n",
              "\n",
              "  [theme=dark] .colab-df-quickchart {\n",
              "      --bg-color: #3B4455;\n",
              "      --fill-color: #D2E3FC;\n",
              "      --hover-bg-color: #434B5C;\n",
              "      --hover-fill-color: #FFFFFF;\n",
              "      --disabled-bg-color: #3B4455;\n",
              "      --disabled-fill-color: #666;\n",
              "  }\n",
              "\n",
              "  .colab-df-quickchart {\n",
              "    background-color: var(--bg-color);\n",
              "    border: none;\n",
              "    border-radius: 50%;\n",
              "    cursor: pointer;\n",
              "    display: none;\n",
              "    fill: var(--fill-color);\n",
              "    height: 32px;\n",
              "    padding: 0;\n",
              "    width: 32px;\n",
              "  }\n",
              "\n",
              "  .colab-df-quickchart:hover {\n",
              "    background-color: var(--hover-bg-color);\n",
              "    box-shadow: 0 1px 2px rgba(60, 64, 67, 0.3), 0 1px 3px 1px rgba(60, 64, 67, 0.15);\n",
              "    fill: var(--button-hover-fill-color);\n",
              "  }\n",
              "\n",
              "  .colab-df-quickchart-complete:disabled,\n",
              "  .colab-df-quickchart-complete:disabled:hover {\n",
              "    background-color: var(--disabled-bg-color);\n",
              "    fill: var(--disabled-fill-color);\n",
              "    box-shadow: none;\n",
              "  }\n",
              "\n",
              "  .colab-df-spinner {\n",
              "    border: 2px solid var(--fill-color);\n",
              "    border-color: transparent;\n",
              "    border-bottom-color: var(--fill-color);\n",
              "    animation:\n",
              "      spin 1s steps(1) infinite;\n",
              "  }\n",
              "\n",
              "  @keyframes spin {\n",
              "    0% {\n",
              "      border-color: transparent;\n",
              "      border-bottom-color: var(--fill-color);\n",
              "      border-left-color: var(--fill-color);\n",
              "    }\n",
              "    20% {\n",
              "      border-color: transparent;\n",
              "      border-left-color: var(--fill-color);\n",
              "      border-top-color: var(--fill-color);\n",
              "    }\n",
              "    30% {\n",
              "      border-color: transparent;\n",
              "      border-left-color: var(--fill-color);\n",
              "      border-top-color: var(--fill-color);\n",
              "      border-right-color: var(--fill-color);\n",
              "    }\n",
              "    40% {\n",
              "      border-color: transparent;\n",
              "      border-right-color: var(--fill-color);\n",
              "      border-top-color: var(--fill-color);\n",
              "    }\n",
              "    60% {\n",
              "      border-color: transparent;\n",
              "      border-right-color: var(--fill-color);\n",
              "    }\n",
              "    80% {\n",
              "      border-color: transparent;\n",
              "      border-right-color: var(--fill-color);\n",
              "      border-bottom-color: var(--fill-color);\n",
              "    }\n",
              "    90% {\n",
              "      border-color: transparent;\n",
              "      border-bottom-color: var(--fill-color);\n",
              "    }\n",
              "  }\n",
              "</style>\n",
              "\n",
              "      <script>\n",
              "        async function quickchart(key) {\n",
              "          const quickchartButtonEl =\n",
              "            document.querySelector('#' + key + ' button');\n",
              "          quickchartButtonEl.disabled = true;  // To prevent multiple clicks.\n",
              "          quickchartButtonEl.classList.add('colab-df-spinner');\n",
              "          try {\n",
              "            const charts = await google.colab.kernel.invokeFunction(\n",
              "                'suggestCharts', [key], {});\n",
              "          } catch (error) {\n",
              "            console.error('Error during call to suggestCharts:', error);\n",
              "          }\n",
              "          quickchartButtonEl.classList.remove('colab-df-spinner');\n",
              "          quickchartButtonEl.classList.add('colab-df-quickchart-complete');\n",
              "        }\n",
              "        (() => {\n",
              "          let quickchartButtonEl =\n",
              "            document.querySelector('#df-db4020e9-9eba-40cc-82e7-6a5958d70165 button');\n",
              "          quickchartButtonEl.style.display =\n",
              "            google.colab.kernel.accessAllowed ? 'block' : 'none';\n",
              "        })();\n",
              "      </script>\n",
              "    </div>\n",
              "\n",
              "    </div>\n",
              "  </div>\n"
            ],
            "application/vnd.google.colaboratory.intrinsic+json": {
              "type": "dataframe",
              "variable_name": "df",
              "summary": "{\n  \"name\": \"df\",\n  \"rows\": 500,\n  \"fields\": [\n    {\n      \"column\": \"Gender\",\n      \"properties\": {\n        \"dtype\": \"category\",\n        \"num_unique_values\": 2,\n        \"samples\": [\n          \"Female\",\n          \"Male\"\n        ],\n        \"semantic_type\": \"\",\n        \"description\": \"\"\n      }\n    },\n    {\n      \"column\": \"Height\",\n      \"properties\": {\n        \"dtype\": \"number\",\n        \"std\": 16,\n        \"min\": 140,\n        \"max\": 199,\n        \"num_unique_values\": 60,\n        \"samples\": [\n          174,\n          147\n        ],\n        \"semantic_type\": \"\",\n        \"description\": \"\"\n      }\n    },\n    {\n      \"column\": \"Weight\",\n      \"properties\": {\n        \"dtype\": \"number\",\n        \"std\": 32,\n        \"min\": 50,\n        \"max\": 160,\n        \"num_unique_values\": 110,\n        \"samples\": [\n          124,\n          80\n        ],\n        \"semantic_type\": \"\",\n        \"description\": \"\"\n      }\n    },\n    {\n      \"column\": \"BMI\",\n      \"properties\": {\n        \"dtype\": \"number\",\n        \"std\": 13.965620181356995,\n        \"min\": 12.753800632588511,\n        \"max\": 78.85340210275739,\n        \"num_unique_values\": 476,\n        \"samples\": [\n          21.936347412254616,\n          62.07148363016755\n        ],\n        \"semantic_type\": \"\",\n        \"description\": \"\"\n      }\n    }\n  ]\n}"
            }
          },
          "metadata": {},
          "execution_count": 5
        }
      ]
    },
    {
      "cell_type": "code",
      "source": [
        "# %% 1. Exploratory Data Analysis (EDA)\n",
        "## 1.1 Missing values\n",
        "missing_counts = df.isna().sum()\n",
        "print(\"\\nMissing values per column:\\n\", missing_counts)"
      ],
      "metadata": {
        "colab": {
          "base_uri": "https://localhost:8080/"
        },
        "id": "5pJIiBmMAZV8",
        "outputId": "1557e11d-6604-4ed9-d422-3213591a4d98"
      },
      "execution_count": null,
      "outputs": [
        {
          "output_type": "stream",
          "name": "stdout",
          "text": [
            "\n",
            "Missing values per column:\n",
            " Gender    0\n",
            "Height    0\n",
            "Weight    0\n",
            "BMI       0\n",
            "dtype: int64\n"
          ]
        }
      ]
    },
    {
      "cell_type": "code",
      "source": [
        "## 1.2 Summary statistics\n",
        "summary_stats = df.describe(include=\"all\").transpose()\n",
        "summary_stats"
      ],
      "metadata": {
        "colab": {
          "base_uri": "https://localhost:8080/",
          "height": 175
        },
        "id": "gpujrnKEAceo",
        "outputId": "0958f7e5-1a79-4eeb-f601-389063b634c5"
      },
      "execution_count": null,
      "outputs": [
        {
          "output_type": "execute_result",
          "data": {
            "text/plain": [
              "        count unique     top freq       mean        std        min        25%  \\\n",
              "Gender    500      2  Female  255        NaN        NaN        NaN        NaN   \n",
              "Height  500.0    NaN     NaN  NaN    169.944  16.375261      140.0      156.0   \n",
              "Weight  500.0    NaN     NaN  NaN      106.0  32.382607       50.0       80.0   \n",
              "BMI     500.0    NaN     NaN  NaN  37.765284   13.96562  12.753801  27.169353   \n",
              "\n",
              "              50%        75%        max  \n",
              "Gender        NaN        NaN        NaN  \n",
              "Height      170.5      184.0      199.0  \n",
              "Weight      106.0      136.0      160.0  \n",
              "BMI     36.956941  46.390467  78.853402  "
            ],
            "text/html": [
              "\n",
              "  <div id=\"df-5de9e104-6aee-4602-8821-bff466e3f947\" class=\"colab-df-container\">\n",
              "    <div>\n",
              "<style scoped>\n",
              "    .dataframe tbody tr th:only-of-type {\n",
              "        vertical-align: middle;\n",
              "    }\n",
              "\n",
              "    .dataframe tbody tr th {\n",
              "        vertical-align: top;\n",
              "    }\n",
              "\n",
              "    .dataframe thead th {\n",
              "        text-align: right;\n",
              "    }\n",
              "</style>\n",
              "<table border=\"1\" class=\"dataframe\">\n",
              "  <thead>\n",
              "    <tr style=\"text-align: right;\">\n",
              "      <th></th>\n",
              "      <th>count</th>\n",
              "      <th>unique</th>\n",
              "      <th>top</th>\n",
              "      <th>freq</th>\n",
              "      <th>mean</th>\n",
              "      <th>std</th>\n",
              "      <th>min</th>\n",
              "      <th>25%</th>\n",
              "      <th>50%</th>\n",
              "      <th>75%</th>\n",
              "      <th>max</th>\n",
              "    </tr>\n",
              "  </thead>\n",
              "  <tbody>\n",
              "    <tr>\n",
              "      <th>Gender</th>\n",
              "      <td>500</td>\n",
              "      <td>2</td>\n",
              "      <td>Female</td>\n",
              "      <td>255</td>\n",
              "      <td>NaN</td>\n",
              "      <td>NaN</td>\n",
              "      <td>NaN</td>\n",
              "      <td>NaN</td>\n",
              "      <td>NaN</td>\n",
              "      <td>NaN</td>\n",
              "      <td>NaN</td>\n",
              "    </tr>\n",
              "    <tr>\n",
              "      <th>Height</th>\n",
              "      <td>500.0</td>\n",
              "      <td>NaN</td>\n",
              "      <td>NaN</td>\n",
              "      <td>NaN</td>\n",
              "      <td>169.944</td>\n",
              "      <td>16.375261</td>\n",
              "      <td>140.0</td>\n",
              "      <td>156.0</td>\n",
              "      <td>170.5</td>\n",
              "      <td>184.0</td>\n",
              "      <td>199.0</td>\n",
              "    </tr>\n",
              "    <tr>\n",
              "      <th>Weight</th>\n",
              "      <td>500.0</td>\n",
              "      <td>NaN</td>\n",
              "      <td>NaN</td>\n",
              "      <td>NaN</td>\n",
              "      <td>106.0</td>\n",
              "      <td>32.382607</td>\n",
              "      <td>50.0</td>\n",
              "      <td>80.0</td>\n",
              "      <td>106.0</td>\n",
              "      <td>136.0</td>\n",
              "      <td>160.0</td>\n",
              "    </tr>\n",
              "    <tr>\n",
              "      <th>BMI</th>\n",
              "      <td>500.0</td>\n",
              "      <td>NaN</td>\n",
              "      <td>NaN</td>\n",
              "      <td>NaN</td>\n",
              "      <td>37.765284</td>\n",
              "      <td>13.96562</td>\n",
              "      <td>12.753801</td>\n",
              "      <td>27.169353</td>\n",
              "      <td>36.956941</td>\n",
              "      <td>46.390467</td>\n",
              "      <td>78.853402</td>\n",
              "    </tr>\n",
              "  </tbody>\n",
              "</table>\n",
              "</div>\n",
              "    <div class=\"colab-df-buttons\">\n",
              "\n",
              "  <div class=\"colab-df-container\">\n",
              "    <button class=\"colab-df-convert\" onclick=\"convertToInteractive('df-5de9e104-6aee-4602-8821-bff466e3f947')\"\n",
              "            title=\"Convert this dataframe to an interactive table.\"\n",
              "            style=\"display:none;\">\n",
              "\n",
              "  <svg xmlns=\"http://www.w3.org/2000/svg\" height=\"24px\" viewBox=\"0 -960 960 960\">\n",
              "    <path d=\"M120-120v-720h720v720H120Zm60-500h600v-160H180v160Zm220 220h160v-160H400v160Zm0 220h160v-160H400v160ZM180-400h160v-160H180v160Zm440 0h160v-160H620v160ZM180-180h160v-160H180v160Zm440 0h160v-160H620v160Z\"/>\n",
              "  </svg>\n",
              "    </button>\n",
              "\n",
              "  <style>\n",
              "    .colab-df-container {\n",
              "      display:flex;\n",
              "      gap: 12px;\n",
              "    }\n",
              "\n",
              "    .colab-df-convert {\n",
              "      background-color: #E8F0FE;\n",
              "      border: none;\n",
              "      border-radius: 50%;\n",
              "      cursor: pointer;\n",
              "      display: none;\n",
              "      fill: #1967D2;\n",
              "      height: 32px;\n",
              "      padding: 0 0 0 0;\n",
              "      width: 32px;\n",
              "    }\n",
              "\n",
              "    .colab-df-convert:hover {\n",
              "      background-color: #E2EBFA;\n",
              "      box-shadow: 0px 1px 2px rgba(60, 64, 67, 0.3), 0px 1px 3px 1px rgba(60, 64, 67, 0.15);\n",
              "      fill: #174EA6;\n",
              "    }\n",
              "\n",
              "    .colab-df-buttons div {\n",
              "      margin-bottom: 4px;\n",
              "    }\n",
              "\n",
              "    [theme=dark] .colab-df-convert {\n",
              "      background-color: #3B4455;\n",
              "      fill: #D2E3FC;\n",
              "    }\n",
              "\n",
              "    [theme=dark] .colab-df-convert:hover {\n",
              "      background-color: #434B5C;\n",
              "      box-shadow: 0px 1px 3px 1px rgba(0, 0, 0, 0.15);\n",
              "      filter: drop-shadow(0px 1px 2px rgba(0, 0, 0, 0.3));\n",
              "      fill: #FFFFFF;\n",
              "    }\n",
              "  </style>\n",
              "\n",
              "    <script>\n",
              "      const buttonEl =\n",
              "        document.querySelector('#df-5de9e104-6aee-4602-8821-bff466e3f947 button.colab-df-convert');\n",
              "      buttonEl.style.display =\n",
              "        google.colab.kernel.accessAllowed ? 'block' : 'none';\n",
              "\n",
              "      async function convertToInteractive(key) {\n",
              "        const element = document.querySelector('#df-5de9e104-6aee-4602-8821-bff466e3f947');\n",
              "        const dataTable =\n",
              "          await google.colab.kernel.invokeFunction('convertToInteractive',\n",
              "                                                    [key], {});\n",
              "        if (!dataTable) return;\n",
              "\n",
              "        const docLinkHtml = 'Like what you see? Visit the ' +\n",
              "          '<a target=\"_blank\" href=https://colab.research.google.com/notebooks/data_table.ipynb>data table notebook</a>'\n",
              "          + ' to learn more about interactive tables.';\n",
              "        element.innerHTML = '';\n",
              "        dataTable['output_type'] = 'display_data';\n",
              "        await google.colab.output.renderOutput(dataTable, element);\n",
              "        const docLink = document.createElement('div');\n",
              "        docLink.innerHTML = docLinkHtml;\n",
              "        element.appendChild(docLink);\n",
              "      }\n",
              "    </script>\n",
              "  </div>\n",
              "\n",
              "\n",
              "    <div id=\"df-f408433e-a58d-4572-adbe-226a899b5b09\">\n",
              "      <button class=\"colab-df-quickchart\" onclick=\"quickchart('df-f408433e-a58d-4572-adbe-226a899b5b09')\"\n",
              "                title=\"Suggest charts\"\n",
              "                style=\"display:none;\">\n",
              "\n",
              "<svg xmlns=\"http://www.w3.org/2000/svg\" height=\"24px\"viewBox=\"0 0 24 24\"\n",
              "     width=\"24px\">\n",
              "    <g>\n",
              "        <path d=\"M19 3H5c-1.1 0-2 .9-2 2v14c0 1.1.9 2 2 2h14c1.1 0 2-.9 2-2V5c0-1.1-.9-2-2-2zM9 17H7v-7h2v7zm4 0h-2V7h2v10zm4 0h-2v-4h2v4z\"/>\n",
              "    </g>\n",
              "</svg>\n",
              "      </button>\n",
              "\n",
              "<style>\n",
              "  .colab-df-quickchart {\n",
              "      --bg-color: #E8F0FE;\n",
              "      --fill-color: #1967D2;\n",
              "      --hover-bg-color: #E2EBFA;\n",
              "      --hover-fill-color: #174EA6;\n",
              "      --disabled-fill-color: #AAA;\n",
              "      --disabled-bg-color: #DDD;\n",
              "  }\n",
              "\n",
              "  [theme=dark] .colab-df-quickchart {\n",
              "      --bg-color: #3B4455;\n",
              "      --fill-color: #D2E3FC;\n",
              "      --hover-bg-color: #434B5C;\n",
              "      --hover-fill-color: #FFFFFF;\n",
              "      --disabled-bg-color: #3B4455;\n",
              "      --disabled-fill-color: #666;\n",
              "  }\n",
              "\n",
              "  .colab-df-quickchart {\n",
              "    background-color: var(--bg-color);\n",
              "    border: none;\n",
              "    border-radius: 50%;\n",
              "    cursor: pointer;\n",
              "    display: none;\n",
              "    fill: var(--fill-color);\n",
              "    height: 32px;\n",
              "    padding: 0;\n",
              "    width: 32px;\n",
              "  }\n",
              "\n",
              "  .colab-df-quickchart:hover {\n",
              "    background-color: var(--hover-bg-color);\n",
              "    box-shadow: 0 1px 2px rgba(60, 64, 67, 0.3), 0 1px 3px 1px rgba(60, 64, 67, 0.15);\n",
              "    fill: var(--button-hover-fill-color);\n",
              "  }\n",
              "\n",
              "  .colab-df-quickchart-complete:disabled,\n",
              "  .colab-df-quickchart-complete:disabled:hover {\n",
              "    background-color: var(--disabled-bg-color);\n",
              "    fill: var(--disabled-fill-color);\n",
              "    box-shadow: none;\n",
              "  }\n",
              "\n",
              "  .colab-df-spinner {\n",
              "    border: 2px solid var(--fill-color);\n",
              "    border-color: transparent;\n",
              "    border-bottom-color: var(--fill-color);\n",
              "    animation:\n",
              "      spin 1s steps(1) infinite;\n",
              "  }\n",
              "\n",
              "  @keyframes spin {\n",
              "    0% {\n",
              "      border-color: transparent;\n",
              "      border-bottom-color: var(--fill-color);\n",
              "      border-left-color: var(--fill-color);\n",
              "    }\n",
              "    20% {\n",
              "      border-color: transparent;\n",
              "      border-left-color: var(--fill-color);\n",
              "      border-top-color: var(--fill-color);\n",
              "    }\n",
              "    30% {\n",
              "      border-color: transparent;\n",
              "      border-left-color: var(--fill-color);\n",
              "      border-top-color: var(--fill-color);\n",
              "      border-right-color: var(--fill-color);\n",
              "    }\n",
              "    40% {\n",
              "      border-color: transparent;\n",
              "      border-right-color: var(--fill-color);\n",
              "      border-top-color: var(--fill-color);\n",
              "    }\n",
              "    60% {\n",
              "      border-color: transparent;\n",
              "      border-right-color: var(--fill-color);\n",
              "    }\n",
              "    80% {\n",
              "      border-color: transparent;\n",
              "      border-right-color: var(--fill-color);\n",
              "      border-bottom-color: var(--fill-color);\n",
              "    }\n",
              "    90% {\n",
              "      border-color: transparent;\n",
              "      border-bottom-color: var(--fill-color);\n",
              "    }\n",
              "  }\n",
              "</style>\n",
              "\n",
              "      <script>\n",
              "        async function quickchart(key) {\n",
              "          const quickchartButtonEl =\n",
              "            document.querySelector('#' + key + ' button');\n",
              "          quickchartButtonEl.disabled = true;  // To prevent multiple clicks.\n",
              "          quickchartButtonEl.classList.add('colab-df-spinner');\n",
              "          try {\n",
              "            const charts = await google.colab.kernel.invokeFunction(\n",
              "                'suggestCharts', [key], {});\n",
              "          } catch (error) {\n",
              "            console.error('Error during call to suggestCharts:', error);\n",
              "          }\n",
              "          quickchartButtonEl.classList.remove('colab-df-spinner');\n",
              "          quickchartButtonEl.classList.add('colab-df-quickchart-complete');\n",
              "        }\n",
              "        (() => {\n",
              "          let quickchartButtonEl =\n",
              "            document.querySelector('#df-f408433e-a58d-4572-adbe-226a899b5b09 button');\n",
              "          quickchartButtonEl.style.display =\n",
              "            google.colab.kernel.accessAllowed ? 'block' : 'none';\n",
              "        })();\n",
              "      </script>\n",
              "    </div>\n",
              "\n",
              "  <div id=\"id_a07f0844-3a4f-476d-bdf4-135b1ccbf854\">\n",
              "    <style>\n",
              "      .colab-df-generate {\n",
              "        background-color: #E8F0FE;\n",
              "        border: none;\n",
              "        border-radius: 50%;\n",
              "        cursor: pointer;\n",
              "        display: none;\n",
              "        fill: #1967D2;\n",
              "        height: 32px;\n",
              "        padding: 0 0 0 0;\n",
              "        width: 32px;\n",
              "      }\n",
              "\n",
              "      .colab-df-generate:hover {\n",
              "        background-color: #E2EBFA;\n",
              "        box-shadow: 0px 1px 2px rgba(60, 64, 67, 0.3), 0px 1px 3px 1px rgba(60, 64, 67, 0.15);\n",
              "        fill: #174EA6;\n",
              "      }\n",
              "\n",
              "      [theme=dark] .colab-df-generate {\n",
              "        background-color: #3B4455;\n",
              "        fill: #D2E3FC;\n",
              "      }\n",
              "\n",
              "      [theme=dark] .colab-df-generate:hover {\n",
              "        background-color: #434B5C;\n",
              "        box-shadow: 0px 1px 3px 1px rgba(0, 0, 0, 0.15);\n",
              "        filter: drop-shadow(0px 1px 2px rgba(0, 0, 0, 0.3));\n",
              "        fill: #FFFFFF;\n",
              "      }\n",
              "    </style>\n",
              "    <button class=\"colab-df-generate\" onclick=\"generateWithVariable('summary_stats')\"\n",
              "            title=\"Generate code using this dataframe.\"\n",
              "            style=\"display:none;\">\n",
              "\n",
              "  <svg xmlns=\"http://www.w3.org/2000/svg\" height=\"24px\"viewBox=\"0 0 24 24\"\n",
              "       width=\"24px\">\n",
              "    <path d=\"M7,19H8.4L18.45,9,17,7.55,7,17.6ZM5,21V16.75L18.45,3.32a2,2,0,0,1,2.83,0l1.4,1.43a1.91,1.91,0,0,1,.58,1.4,1.91,1.91,0,0,1-.58,1.4L9.25,21ZM18.45,9,17,7.55Zm-12,3A5.31,5.31,0,0,0,4.9,8.1,5.31,5.31,0,0,0,1,6.5,5.31,5.31,0,0,0,4.9,4.9,5.31,5.31,0,0,0,6.5,1,5.31,5.31,0,0,0,8.1,4.9,5.31,5.31,0,0,0,12,6.5,5.46,5.46,0,0,0,6.5,12Z\"/>\n",
              "  </svg>\n",
              "    </button>\n",
              "    <script>\n",
              "      (() => {\n",
              "      const buttonEl =\n",
              "        document.querySelector('#id_a07f0844-3a4f-476d-bdf4-135b1ccbf854 button.colab-df-generate');\n",
              "      buttonEl.style.display =\n",
              "        google.colab.kernel.accessAllowed ? 'block' : 'none';\n",
              "\n",
              "      buttonEl.onclick = () => {\n",
              "        google.colab.notebook.generateWithVariable('summary_stats');\n",
              "      }\n",
              "      })();\n",
              "    </script>\n",
              "  </div>\n",
              "\n",
              "    </div>\n",
              "  </div>\n"
            ],
            "application/vnd.google.colaboratory.intrinsic+json": {
              "type": "dataframe",
              "variable_name": "summary_stats",
              "summary": "{\n  \"name\": \"summary_stats\",\n  \"rows\": 4,\n  \"fields\": [\n    {\n      \"column\": \"count\",\n      \"properties\": {\n        \"dtype\": \"date\",\n        \"min\": \"500\",\n        \"max\": \"500\",\n        \"num_unique_values\": 1,\n        \"samples\": [\n          \"500\"\n        ],\n        \"semantic_type\": \"\",\n        \"description\": \"\"\n      }\n    },\n    {\n      \"column\": \"unique\",\n      \"properties\": {\n        \"dtype\": \"date\",\n        \"min\": 2,\n        \"max\": 2,\n        \"num_unique_values\": 1,\n        \"samples\": [\n          2\n        ],\n        \"semantic_type\": \"\",\n        \"description\": \"\"\n      }\n    },\n    {\n      \"column\": \"top\",\n      \"properties\": {\n        \"dtype\": \"category\",\n        \"num_unique_values\": 1,\n        \"samples\": [\n          \"Female\"\n        ],\n        \"semantic_type\": \"\",\n        \"description\": \"\"\n      }\n    },\n    {\n      \"column\": \"freq\",\n      \"properties\": {\n        \"dtype\": \"date\",\n        \"min\": \"255\",\n        \"max\": \"255\",\n        \"num_unique_values\": 1,\n        \"samples\": [\n          \"255\"\n        ],\n        \"semantic_type\": \"\",\n        \"description\": \"\"\n      }\n    },\n    {\n      \"column\": \"mean\",\n      \"properties\": {\n        \"dtype\": \"date\",\n        \"min\": 37.765283941048516,\n        \"max\": 169.944,\n        \"num_unique_values\": 3,\n        \"samples\": [\n          169.944\n        ],\n        \"semantic_type\": \"\",\n        \"description\": \"\"\n      }\n    },\n    {\n      \"column\": \"std\",\n      \"properties\": {\n        \"dtype\": \"date\",\n        \"min\": 13.965620181356995,\n        \"max\": 32.38260746964435,\n        \"num_unique_values\": 3,\n        \"samples\": [\n          16.37526067959376\n        ],\n        \"semantic_type\": \"\",\n        \"description\": \"\"\n      }\n    },\n    {\n      \"column\": \"min\",\n      \"properties\": {\n        \"dtype\": \"date\",\n        \"min\": 12.753800632588511,\n        \"max\": 140.0,\n        \"num_unique_values\": 3,\n        \"samples\": [\n          140.0\n        ],\n        \"semantic_type\": \"\",\n        \"description\": \"\"\n      }\n    },\n    {\n      \"column\": \"25%\",\n      \"properties\": {\n        \"dtype\": \"date\",\n        \"min\": 27.16935257941605,\n        \"max\": 156.0,\n        \"num_unique_values\": 3,\n        \"samples\": [\n          156.0\n        ],\n        \"semantic_type\": \"\",\n        \"description\": \"\"\n      }\n    },\n    {\n      \"column\": \"50%\",\n      \"properties\": {\n        \"dtype\": \"date\",\n        \"min\": 36.9569409839839,\n        \"max\": 170.5,\n        \"num_unique_values\": 3,\n        \"samples\": [\n          170.5\n        ],\n        \"semantic_type\": \"\",\n        \"description\": \"\"\n      }\n    },\n    {\n      \"column\": \"75%\",\n      \"properties\": {\n        \"dtype\": \"date\",\n        \"min\": 46.39046726512355,\n        \"max\": 184.0,\n        \"num_unique_values\": 3,\n        \"samples\": [\n          184.0\n        ],\n        \"semantic_type\": \"\",\n        \"description\": \"\"\n      }\n    },\n    {\n      \"column\": \"max\",\n      \"properties\": {\n        \"dtype\": \"date\",\n        \"min\": 78.85340210275739,\n        \"max\": 199.0,\n        \"num_unique_values\": 3,\n        \"samples\": [\n          199.0\n        ],\n        \"semantic_type\": \"\",\n        \"description\": \"\"\n      }\n    }\n  ]\n}"
            }
          },
          "metadata": {},
          "execution_count": 7
        }
      ]
    },
    {
      "cell_type": "code",
      "source": [
        "## 1.3 Histograms & boxplots\n",
        "num_cols = df.select_dtypes(include=[np.number]).columns\n",
        "for col in num_cols:\n",
        "    fig, axes = plt.subplots(1, 2, figsize=(10, 4))\n",
        "    sns.histplot(df[col].dropna(), ax=axes[0])\n",
        "    axes[0].set_title(f\"Histogram of {col}\")\n",
        "    sns.boxplot(x=df[col], ax=axes[1])\n",
        "    axes[1].set_title(f\"Boxplot of {col}\")\n",
        "    plt.show()\n"
      ],
      "metadata": {
        "colab": {
          "base_uri": "https://localhost:8080/",
          "height": 1000
        },
        "id": "QyAn1IS5BJ_C",
        "outputId": "cabd3cb2-23d5-46ee-a46f-dae8a629bef4"
      },
      "execution_count": null,
      "outputs": [
        {
          "output_type": "display_data",
          "data": {
            "text/plain": [
              "<Figure size 1000x400 with 2 Axes>"
            ],
            "image/png": "[encoded data removed]"
          },
          "metadata": {}
        },
        {
          "output_type": "display_data",
          "data": {
            "text/plain": [
              "<Figure size 1000x400 with 2 Axes>"
            ],
            "image/png": "[encoded data removed]"
          },
          "metadata": {}
        },
        {
          "output_type": "display_data",
          "data": {
            "text/plain": [
              "<Figure size 1000x400 with 2 Axes>"
            ],
            "image/png": "[encoded data removed]"
          },
          "metadata": {}
        }
      ]
    },
    {
      "cell_type": "code",
      "source": [
        "## 1.4 Correlation heatmap\n",
        "plt.figure(figsize=(10, 8))\n",
        "sns.heatmap(df[num_cols].corr(), annot=True, cmap=\"coolwarm\", fmt=\".2f\")\n",
        "plt.title(\"Correlation Heatmap\")\n",
        "plt.show()"
      ],
      "metadata": {
        "colab": {
          "base_uri": "https://localhost:8080/",
          "height": 699
        },
        "id": "DlnehWcsBZhj",
        "outputId": "dfe5bd15-38a8-46a4-8962-04af77df6197"
      },
      "execution_count": null,
      "outputs": [
        {
          "output_type": "display_data",
          "data": {
            "text/plain": [
              "<Figure size 1000x800 with 2 Axes>"
            ],
            "image/png": "[encoded data removed]"
          },
          "metadata": {}
        }
      ]
    },
    {
      "cell_type": "code",
      "source": [
        "## 1.5 Outlier detection & handling (IQR method)\n",
        "for col in num_cols:\n",
        "    Q1 = df[col].quantile(0.25)\n",
        "    Q3 = df[col].quantile(0.75)\n",
        "    IQR = Q3 - Q1\n",
        "    lower = Q1 - 1.5 * IQR\n",
        "    upper = Q3 + 1.5 * IQR\n",
        "    outliers = df[(df[col] < lower) | (df[col] > upper)]\n",
        "    print(f\"{col}: {len(outliers)} outliers\")"
      ],
      "metadata": {
        "colab": {
          "base_uri": "https://localhost:8080/"
        },
        "id": "ef5cuK2ZBlh8",
        "outputId": "58628335-7319-42b4-85ec-f592e461469e"
      },
      "execution_count": null,
      "outputs": [
        {
          "output_type": "stream",
          "name": "stdout",
          "text": [
            "Height: 0 outliers\n",
            "Weight: 0 outliers\n",
            "BMI: 3 outliers\n"
          ]
        }
      ]
    },
    {
      "cell_type": "code",
      "source": [
        "# 1.6 Multicollinearity check (VIF)\n",
        "X_vif = df[[\"Height\", \"Weight\"]]\n",
        "X_vif_const = sm.add_constant(X_vif)\n",
        "\n",
        "vif_df = pd.DataFrame()\n",
        "vif_df[\"feature\"] = X_vif_const.columns\n",
        "vif_df[\"VIF\"] = [variance_inflation_factor(X_vif_const.values, i)\n",
        "                 for i in range(X_vif_const.shape[1])]\n",
        "print(\"\\nVariance Inflation Factors:\\n\", vif_df)"
      ],
      "metadata": {
        "colab": {
          "base_uri": "https://localhost:8080/"
        },
        "id": "L1f94lDUBriK",
        "outputId": "b87c50a8-29e3-433a-8df6-7f2f9fd70d31"
      },
      "execution_count": null,
      "outputs": [
        {
          "output_type": "stream",
          "name": "stdout",
          "text": [
            "\n",
            "Variance Inflation Factors:\n",
            "   feature        VIF\n",
            "0   const  119.62672\n",
            "1  Height    1.00000\n",
            "2  Weight    1.00000\n"
          ]
        }
      ]
    },
    {
      "cell_type": "code",
      "source": [
        "# 2. Preprocessing\n",
        "TARGET = \"BMI\"\n",
        "X = df.drop(columns=[TARGET])\n",
        "y = df[TARGET]\n",
        "\n",
        "autodetected_numeric = X.select_dtypes(include=[np.number]).columns.tolist()\n",
        "autodetected_cat = X.select_dtypes(exclude=[np.number]).columns.tolist()\n",
        "print(f\"Numeric features: {autodetected_numeric}\")\n",
        "print(f\"Categorical features: {autodetected_cat}\")\n",
        "\n",
        " # 2.1 Normalize or standardize numerical features\n",
        "numeric_transformer = Pipeline(steps=[(\"scaler\", StandardScaler())])\n",
        "\n",
        " # 2.2 Encode categorical variables\n",
        "categorical_transformer = Pipeline(steps=[(\"onehot\", OneHotEncoder(handle_unknown=\"ignore\"))])\n",
        "\n",
        "preprocessor = ColumnTransformer(\n",
        "    transformers=[\n",
        "        (\"num\", numeric_transformer, autodetected_numeric),\n",
        "        (\"cat\", categorical_transformer, autodetected_cat)\n",
        "    ]\n",
        ")\n",
        "\n",
        " # 2.3 Split the dataset\n",
        "X_train, X_test, y_train, y_test = train_test_split(\n",
        "    X, y, test_size=0.2, random_state=42, shuffle=True\n",
        ")\n",
        "print(\"Training set size:\", X_train.shape)\n",
        "print(\"Test set size:\", X_test.shape)\n"
      ],
      "metadata": {
        "colab": {
          "base_uri": "https://localhost:8080/"
        },
        "id": "2dzDSXST8gYQ",
        "outputId": "cc7c3a50-73bc-4fff-eae4-ca15c4e1c330"
      },
      "execution_count": null,
      "outputs": [
        {
          "output_type": "stream",
          "name": "stdout",
          "text": [
            "Numeric features: ['Height', 'Weight']\n",
            "Categorical features: ['Gender']\n",
            "Training set size: (400, 3)\n",
            "Test set size: (100, 3)\n"
          ]
        }
      ]
    },
    {
      "cell_type": "code",
      "source": [
        "# 3. Model Training & Evaluation\n",
        " # 3.1 Set BMI as the target variable\n",
        "TARGET = \"BMI\"\n",
        "X = df.drop(columns=[TARGET])\n",
        "y = df[TARGET]\n",
        "\n"
      ],
      "metadata": {
        "id": "o6yPZkfT__kz"
      },
      "execution_count": null,
      "outputs": []
    },
    {
      "cell_type": "code",
      "source": [
        "#Train and evaluate the following regression models:\n",
        "\n",
        "#### Simple Linear Regression (using one independent variable)\n",
        "\n",
        "#In this model, we use **Weight** as the only independent variable to predict BMI. The model is trained as follows:\n",
        "\n",
        " #**Independent variable:** Weight\n",
        " #**Dependent variable:** BMI\n",
        "\n",
        "\n",
        "from sklearn.linear_model import LinearRegression\n",
        "from sklearn.preprocessing import StandardScaler\n",
        "from sklearn.pipeline import Pipeline\n",
        "from sklearn.compose import ColumnTransformer\n",
        "from sklearn.metrics import r2_score, mean_absolute_error, mean_squared_error\n",
        "import numpy as np\n",
        "\n",
        "# Use only the \"Weight\" feature for prediction\n",
        "simple_pipeline = Pipeline([\n",
        "    (\"pre\", ColumnTransformer([\n",
        "        (\"num\", StandardScaler(), [\"Weight\"])  # Weight'ı normalize et\n",
        "    ], remainder=\"drop\")),\n",
        "    (\"reg\", LinearRegression())\n",
        "])\n",
        "\n",
        "\n",
        "# Train the model and make predictions\n",
        "simple_pipeline.fit(X_train[[\"Weight\"]], y_train)\n",
        "preds = simple_pipeline.predict(X_test[[\"Weight\"]])\n",
        "\n",
        "# Evaluation metrics\n",
        "r2 = r2_score(y_test, preds)\n",
        "mae = mean_absolute_error(y_test, preds)\n",
        "rmse = np.sqrt(mean_squared_error(y_test, preds))\n",
        "\n",
        "print(\"Simple Linear Regression (only Weight):\")\n",
        "print(f\"R² Score : {r2:.4f}\")\n",
        "print(f\"MAE      : {mae:.4f}\")\n",
        "print(f\"RMSE     : {rmse:.4f}\")\n"
      ],
      "metadata": {
        "colab": {
          "base_uri": "https://localhost:8080/"
        },
        "id": "OXPA4ce4D68J",
        "outputId": "e8c63fd2-94d1-424e-823c-d514e4225721"
      },
      "execution_count": null,
      "outputs": [
        {
          "output_type": "stream",
          "name": "stdout",
          "text": [
            "Simple Linear Regression (only Weight):\n",
            "R² Score : 0.7196\n",
            "MAE      : 6.2241\n",
            "RMSE     : 8.0374\n"
          ]
        }
      ]
    },
    {
      "cell_type": "markdown",
      "source": [
        "**Explanation:**\n",
        "\n",
        "**R² Score** = 0.7196\n",
        "→ This means that the model explains about 71.96% of the variation in BMI using just the Weight variable.\n",
        "Not bad, but there's still ~28% of variance unexplained.\n",
        "\n",
        "**MAE** = 6.22\n",
        "→ On average, the model's prediction is off by 6.22 BMI units, which is quite high.\n",
        "\n",
        "**RMSE** = 8.03\n",
        "→ The root mean squared error shows large variance in errors; this indicates the predictions are spread out.\n",
        "\n",
        "**Interpretation:**\n",
        "\n",
        "Although Weight is strongly correlated with BMI, using it alone is not sufficient for accurate prediction. Including other variables like Height and Gender improves performance significantly — as we saw in the Multiple Linear model (R² ≈ 0.97)."
      ],
      "metadata": {
        "id": "LO36yYPNEJKZ"
      }
    },
    {
      "cell_type": "code",
      "source": [
        "#### Multiple Linear Regression (using all independent variables)\n",
        "\n",
        "#In this model, we use all available features (Height, Weight, Gender) as independent variables to predict BMI.\n",
        "\n",
        "# **Independent variables:** Height, Weight, Gender\n",
        "# **Dependent variable:** BMI\n",
        "\n",
        "from sklearn.linear_model import LinearRegression\n",
        "from sklearn.preprocessing import StandardScaler, OneHotEncoder\n",
        "from sklearn.pipeline import Pipeline\n",
        "from sklearn.compose import ColumnTransformer\n",
        "from sklearn.metrics import r2_score, mean_absolute_error, mean_squared_error\n",
        "import numpy as np\n",
        "\n",
        "# Preprocessing for numeric and categorical features\n",
        "numeric_features = ['Height', 'Weight']\n",
        "categorical_features = ['Gender']\n",
        "\n",
        "numeric_transformer = Pipeline(steps=[\n",
        "    (\"scaler\", StandardScaler())\n",
        "])\n",
        "categorical_transformer = Pipeline(steps=[\n",
        "    (\"onehot\", OneHotEncoder(handle_unknown=\"ignore\"))\n",
        "])\n",
        "\n",
        "preprocessor = ColumnTransformer(\n",
        "    transformers=[\n",
        "        (\"num\", numeric_transformer, numeric_features),\n",
        "        (\"cat\", categorical_transformer, categorical_features)\n",
        "    ]\n",
        ")\n",
        "\n",
        "# Multiple Linear Regression pipeline\n",
        "multiple_pipeline = Pipeline([\n",
        "    (\"pre\", preprocessor),\n",
        "    (\"reg\", LinearRegression())\n",
        "])\n",
        "\n",
        "# Fit and predict\n",
        "multiple_pipeline.fit(X_train, y_train)\n",
        "preds = multiple_pipeline.predict(X_test)\n",
        "\n",
        "# Performance metrics\n",
        "r2 = r2_score(y_test, preds)\n",
        "mae = mean_absolute_error(y_test, preds)\n",
        "rmse = np.sqrt(mean_squared_error(y_test, preds))\n",
        "\n",
        "print(\"Multiple Linear Regression (all features):\")\n",
        "print(f\"R² Score : {r2:.4f}\")\n",
        "print(f\"MAE      : {mae:.4f}\")\n",
        "print(f\"RMSE     : {rmse:.4f}\")\n"
      ],
      "metadata": {
        "colab": {
          "base_uri": "https://localhost:8080/"
        },
        "id": "iaIKUV_2J7hz",
        "outputId": "38cd5a5a-9429-44b2-d050-076456daec9f"
      },
      "execution_count": null,
      "outputs": [
        {
          "output_type": "stream",
          "name": "stdout",
          "text": [
            "Multiple Linear Regression (all features):\n",
            "R² Score : 0.9714\n",
            "MAE      : 1.8874\n",
            "RMSE     : 2.5666\n"
          ]
        }
      ]
    },
    {
      "cell_type": "markdown",
      "source": [
        "**Explanation:**\n",
        "\n",
        "All features (Height, Weight, and Gender) are used in the model.\n",
        "\n",
        "Numeric features are standardized, categorical features are one-hot encoded.\n",
        "\n",
        "The model is trained with the training set and tested on the test set.\n",
        "\n",
        "R² Score, MAE, and RMSE are printed for evaluation.\n",
        "\n",
        "You will see that the performance is much better than simple linear regression"
      ],
      "metadata": {
        "id": "YhR7OV-sK7oP"
      }
    },
    {
      "cell_type": "markdown",
      "source": [
        "**Ridge Regression (to handle multicollinearity)**\n",
        "\n",
        "**Purpose:**\n",
        "Ridge Regression is used to reduce the impact of multicollinearity (when independent variables are highly correlated). It adds an L2 penalty term to the cost function, which shrinks the coefficients and can improve the model's stability and generalization.\n",
        "\n",
        "**Independent variables:**Height, Weight, Gender\n",
        "\n",
        "**Dependent variable:**BMI\n",
        "\n"
      ],
      "metadata": {
        "id": "HLkH7JBdeklF"
      }
    },
    {
      "cell_type": "code",
      "source": [
        "from sklearn.linear_model import Ridge\n",
        "from sklearn.model_selection import GridSearchCV\n",
        "\n",
        "# Ridge Regression pipeline\n",
        "ridge_pipeline = Pipeline([\n",
        "    (\"pre\", preprocessor),           # Preprocessing: scaling and encoding\n",
        "    (\"reg\", Ridge())                 # Ridge regression model\n",
        "])\n",
        "\n",
        "# Hyperparameter tuning for alpha (regularization strength)\n",
        "ridge_grid = {\"reg__alpha\": np.logspace(-3, 3, 10)}\n",
        "ridge_search = GridSearchCV(ridge_pipeline, ridge_grid, cv=5, scoring=\"r2\")\n",
        "ridge_search.fit(X_train, y_train)\n",
        "\n",
        "# Evaluate on test set\n",
        "ridge_best = ridge_search.best_estimator_\n",
        "preds = ridge_best.predict(X_test)\n",
        "r2 = r2_score(y_test, preds)\n",
        "mae = mean_absolute_error(y_test, preds)\n",
        "rmse = np.sqrt(mean_squared_error(y_test, preds))\n",
        "\n",
        "print(\"Ridge Regression (to handle multicollinearity):\")\n",
        "print(f\"Best alpha : {ridge_search.best_params_['reg__alpha']}\")\n",
        "print(f\"R² Score   : {r2:.4f}\")\n",
        "print(f\"MAE        : {mae:.4f}\")\n",
        "print(f\"RMSE       : {rmse:.4f}\")\n"
      ],
      "metadata": {
        "colab": {
          "base_uri": "https://localhost:8080/"
        },
        "id": "LXqYvMzHe0pd",
        "outputId": "b4213e09-0dc2-48d4-e466-65d41655e879"
      },
      "execution_count": null,
      "outputs": [
        {
          "output_type": "stream",
          "name": "stdout",
          "text": [
            "Ridge Regression (to handle multicollinearity):\n",
            "Best alpha : 0.46415888336127775\n",
            "R² Score   : 0.9713\n",
            "MAE        : 1.8889\n",
            "RMSE       : 2.5721\n"
          ]
        }
      ]
    },
    {
      "cell_type": "markdown",
      "source": [
        "**Explanation:**\n",
        "Ridge Regression helps when your independent variables (like Height and Weight) are correlated.\n",
        "\n",
        "The parameter alpha controls how much penalty is applied; GridSearchCV is used to find the best value.\n",
        "\n",
        "Results are reported as **R²** **Score**, **MAE** , and **RMSE** for direct comparison with other models."
      ],
      "metadata": {
        "id": "_KjZs9f7fiDK"
      }
    },
    {
      "cell_type": "markdown",
      "source": [
        "Lasso Regression (to perform feature selection)\n",
        "Purpose:\n",
        "\n",
        "Lasso Regression uses L1 regularization, which can shrink some coefficients to zero—effectively removing less important features from the model.\n",
        "\n",
        "Useful for both prediction and understanding which variables are most relevant.\n",
        "\n",
        "Independent variables: Height, Weight, Gender\n",
        "Dependent variable: BMI"
      ],
      "metadata": {
        "id": "VCpaiyS-l7Ev"
      }
    },
    {
      "cell_type": "code",
      "source": [
        "from sklearn.linear_model import Lasso\n",
        "from sklearn.model_selection import GridSearchCV\n",
        "\n",
        "# Lasso Regression pipeline\n",
        "lasso_pipeline = Pipeline([\n",
        "    (\"pre\", preprocessor),\n",
        "    (\"reg\", Lasso(max_iter=10000))\n",
        "])\n",
        "\n",
        "# Hyperparameter tuning for alpha\n",
        "lasso_grid = {\"reg__alpha\": np.logspace(-3, 1, 10)}\n",
        "lasso_search = GridSearchCV(lasso_pipeline, lasso_grid, cv=5, scoring=\"r2\")\n",
        "lasso_search.fit(X_train, y_train)\n",
        "\n",
        "# Best Lasso model\n",
        "lasso_best = lasso_search.best_estimator_\n",
        "preds = lasso_best.predict(X_test)\n",
        "r2 = r2_score(y_test, preds)\n",
        "mae = mean_absolute_error(y_test, preds)\n",
        "rmse = np.sqrt(mean_squared_error(y_test, preds))\n",
        "best_alpha = lasso_search.best_params_[\"reg__alpha\"]\n",
        "\n",
        "print(\"Lasso Regression (to perform feature selection):\")\n",
        "print(f\"Best alpha : {best_alpha}\")\n",
        "print(f\"R² Score   : {r2:.4f}\")\n",
        "print(f\"MAE        : {mae:.4f}\")\n",
        "print(f\"RMSE       : {rmse:.4f}\")\n"
      ],
      "metadata": {
        "colab": {
          "base_uri": "https://localhost:8080/"
        },
        "id": "IQcHhhGXl-YY",
        "outputId": "d0b3bbbb-cf83-4f54-b42e-8ad3c5172227"
      },
      "execution_count": null,
      "outputs": [
        {
          "output_type": "stream",
          "name": "stdout",
          "text": [
            "Lasso Regression (to perform feature selection):\n",
            "Best alpha : 0.05994842503189409\n",
            "R² Score   : 0.9705\n",
            "MAE        : 1.9071\n",
            "RMSE       : 2.6070\n"
          ]
        }
      ]
    },
    {
      "cell_type": "markdown",
      "source": [
        "** Explanation:**\n",
        "\n",
        "Lasso Regression not only prevents overfitting, but also performs feature selection (some coefficients can become exactly zero).\n",
        "\n",
        "GridSearchCV is used to find the best alpha (regularization strength).\n",
        "\n",
        "We report R² Score, MAE, and RMSE to compare performance with previous models.\n",
        "\n",
        "The optimal alpha found is 0.060.\n",
        "\n",
        "The model performance (R², MAE, RMSE) is very similar to Ridge and Multiple Linear Regression, because with only three features, there's little to “shrink” to zero.\n",
        "\n",
        "If you had more (potentially irrelevant) features, Lasso might actually set some coefficients to zero.\n",
        "\n",
        "**Summary:**\n",
        "\n",
        "Lasso Regression helps with both regularization and feature selection.\n",
        "\n",
        "Here, with only Height, Weight, and Gender, all features are relevant, so Lasso doesn’t remove an"
      ],
      "metadata": {
        "id": "chTxmo9EmE2b"
      }
    },
    {
      "cell_type": "code",
      "source": [
        "# Lasso Regression: Coefficients\n",
        "# Extract feature names after transformation\n",
        "feature_names = lasso_best.named_steps[\"pre\"].get_feature_names_out()\n",
        "coefficients = lasso_best.named_steps[\"reg\"].coef_\n",
        "\n",
        "# Display as DataFrame for easy interpretation\n",
        "import pandas as pd\n",
        "coef_df = pd.DataFrame({\n",
        "    \"Feature\": feature_names,\n",
        "    \"Coefficient\": coefficients\n",
        "}).sort_values(by=\"Coefficient\", key=abs, ascending=False)\n",
        "print(coef_df)\n"
      ],
      "metadata": {
        "colab": {
          "base_uri": "https://localhost:8080/"
        },
        "id": "LrKsZS32nBoc",
        "outputId": "38aff61f-0865-4036-b563-d94e39e15be3"
      },
      "execution_count": null,
      "outputs": [
        {
          "output_type": "stream",
          "name": "stdout",
          "text": [
            "              Feature  Coefficient\n",
            "1         num__Weight    11.339414\n",
            "0         num__Height    -7.336224\n",
            "2  cat__Gender_Female    -0.000000\n",
            "3    cat__Gender_Male     0.000000\n"
          ]
        }
      ]
    },
    {
      "cell_type": "markdown",
      "source": [
        "**Interpretation:**\n",
        "\n",
        "If a coefficient is exactly zero, that feature was eliminated by Lasso.\n",
        "\n",
        "Here, likely all features will have non-zero coefficients, showing they are all relevant."
      ],
      "metadata": {
        "id": "BDj1VxMxmp41"
      }
    },
    {
      "cell_type": "markdown",
      "source": [
        "Elastic Net Regression (combination of Ridge and Lasso)\n",
        "Purpose:\n",
        "Elastic Net combines both L1 (Lasso) and L2 (Ridge) regularization, so it can both shrink and eliminate features, offering flexibility.\n"
      ],
      "metadata": {
        "id": "GFHHi6zDnYk2"
      }
    },
    {
      "cell_type": "code",
      "source": [
        "from sklearn.linear_model import ElasticNet\n",
        "\n",
        "# Elastic Net pipeline\n",
        "elastic_pipeline = Pipeline([\n",
        "    (\"pre\", preprocessor),\n",
        "    (\"reg\", ElasticNet(max_iter=10000))\n",
        "])\n",
        "\n",
        "elastic_grid = {\n",
        "    \"reg__alpha\": np.logspace(-3, 1, 10),\n",
        "    \"reg__l1_ratio\": np.linspace(0.1, 0.9, 5)\n",
        "}\n",
        "elastic_search = GridSearchCV(elastic_pipeline, elastic_grid, cv=5, scoring=\"r2\")\n",
        "elastic_search.fit(X_train, y_train)\n",
        "\n",
        "elastic_best = elastic_search.best_estimator_\n",
        "preds = elastic_best.predict(X_test)\n",
        "r2 = r2_score(y_test, preds)\n",
        "mae = mean_absolute_error(y_test, preds)\n",
        "rmse = np.sqrt(mean_squared_error(y_test, preds))\n",
        "best_alpha = elastic_search.best_params_[\"reg__alpha\"]\n",
        "best_l1_ratio = elastic_search.best_params_[\"reg__l1_ratio\"]\n",
        "\n",
        "print(\"Elastic Net Regression (combination of Ridge and Lasso):\")\n",
        "print(f\"Best alpha    : {best_alpha}\")\n",
        "print(f\"Best l1_ratio : {best_l1_ratio}\")\n",
        "print(f\"R² Score      : {r2:.4f}\")\n",
        "print(f\"MAE           : {mae:.4f}\")\n",
        "print(f\"RMSE          : {rmse:.4f}\")\n"
      ],
      "metadata": {
        "colab": {
          "base_uri": "https://localhost:8080/"
        },
        "id": "CZ6xKX3InfCH",
        "outputId": "9d3fbd98-363a-4145-fe8e-19efc1703c04"
      },
      "execution_count": null,
      "outputs": [
        {
          "output_type": "stream",
          "name": "stdout",
          "text": [
            "Elastic Net Regression (combination of Ridge and Lasso):\n",
            "Best alpha    : 0.05994842503189409\n",
            "Best l1_ratio : 0.9\n",
            "R² Score      : 0.9699\n",
            "MAE           : 1.9172\n",
            "RMSE          : 2.6353\n"
          ]
        }
      ]
    },
    {
      "cell_type": "code",
      "source": [
        "# Elastic Net Regression Coefficients\n",
        "# After training elastic_best as above...\n",
        "\n",
        "# Extract feature names after preprocessing\n",
        "elastic_feature_names = elastic_best.named_steps[\"pre\"].get_feature_names_out()\n",
        "\n",
        "# Get coefficients from the trained Elastic Net model\n",
        "elastic_coefficients = elastic_best.named_steps[\"reg\"].coef_\n",
        "\n",
        "# Create a DataFrame for easy viewing and sorting\n",
        "import pandas as pd\n",
        "elastic_coef_df = pd.DataFrame({\n",
        "    \"Feature\": elastic_feature_names,\n",
        "    \"Coefficient\": elastic_coefficients\n",
        "}).sort_values(by=\"Coefficient\", key=abs, ascending=False)\n",
        "\n",
        "print(elastic_coef_df)\n"
      ],
      "metadata": {
        "colab": {
          "base_uri": "https://localhost:8080/"
        },
        "id": "FCr8ilS0oFSB",
        "outputId": "1c279fd4-9e4a-4024-8ca9-64e5e3bffd65"
      },
      "execution_count": null,
      "outputs": [
        {
          "output_type": "stream",
          "name": "stdout",
          "text": [
            "              Feature  Coefficient\n",
            "1         num__Weight    11.276489\n",
            "0         num__Height    -7.296393\n",
            "2  cat__Gender_Female    -0.000000\n",
            "3    cat__Gender_Male     0.000000\n"
          ]
        }
      ]
    },
    {
      "cell_type": "markdown",
      "source": [
        "**Explanation**:\n",
        "\n",
        "Each row shows a feature and its corresponding coefficient from the Elastic Net model.\n",
        "\n",
        "If a coefficient is exactly zero, Elastic Net has eliminated that feature (in your dataset, all will be nonzero).\n",
        "\n",
        "The higher the absolute value of a coefficient, the more important that feature is for predicting BMI."
      ],
      "metadata": {
        "id": "eex8sC8IobqQ"
      }
    },
    {
      "cell_type": "markdown",
      "source": [
        "**Interpretation:**\n",
        "Elastic Net provides very similar performance to Lasso and Ridge, since the dataset only has a few strong predictors.\n",
        "\n",
        "l1_ratio = 0.9 means the solution is close to Lasso (mostly L1 penalty).\n",
        "\n",
        "All features are relevant, so coefficients are non-zero."
      ],
      "metadata": {
        "id": "JDPIj6y_onjt"
      }
    },
    {
      "cell_type": "code",
      "source": [
        "#Optional: Visualize Coefficients\n",
        "import matplotlib.pyplot as plt\n",
        "\n",
        "plt.figure(figsize=(8,4))\n",
        "plt.bar(elastic_coef_df[\"Feature\"], elastic_coef_df[\"Coefficient\"])\n",
        "plt.title(\"Elastic Net Regression Coefficients\")\n",
        "plt.ylabel(\"Coefficient Value\")\n",
        "plt.xticks(rotation=45)\n",
        "plt.tight_layout()\n",
        "plt.show()\n"
      ],
      "metadata": {
        "colab": {
          "base_uri": "https://localhost:8080/",
          "height": 407
        },
        "id": "r_Nl5e7upl58",
        "outputId": "08e199ef-305f-4f29-e112-58607c51023c"
      },
      "execution_count": null,
      "outputs": [
        {
          "output_type": "display_data",
          "data": {
            "text/plain": [
              "<Figure size 800x400 with 1 Axes>"
            ],
            "image/png": "[encoded data removed]"
          },
          "metadata": {}
        }
      ]
    },
    {
      "cell_type": "markdown",
      "source": [
        "**We already calculated the R² scores for each model.**\n",
        "\n",
        "**We did this step by step for:**\n",
        "\n",
        "Simple Linear Regression (only Weight)\n",
        "\n",
        "Multiple Linear Regression (all features)\n",
        "\n",
        "Ridge Regression\n",
        "\n",
        "Lasso Regression\n",
        "\n",
        "Elastic Net Regression\n",
        "\n",
        "For each model, we used this code pattern:\n",
        "\n",
        "python\n",
        "Copy\n",
        "Edit\n",
        "r2 = r2_score(y_test, preds)\n",
        "and stored the results in a summary table"
      ],
      "metadata": {
        "id": "RNVxxgmVsQtQ"
      }
    },
    {
      "cell_type": "markdown",
      "source": [
        "#Comparison of R² Scores\n",
        "\n",
        "| Model Name                     | R² Score |\n",
        "| ------------------------------ | -------- |\n",
        "| **Multiple Linear Regression** | 0.9714   |\n",
        "| **Ridge Regression**           | 0.9713   |\n",
        "| **Lasso Regression**           | 0.9705   |\n",
        "| **Elastic Net Regression**     | 0.9699   |\n",
        "| **Simple Linear Regression**   | 0.7196   |\n",
        "\n",
        "**What does R² mean?**\n",
        "\n",
        "R² (Coefficient of Determination) indicates the proportion of the variance in the dependent variable (BMI) that is predictable from the independent variables.\n",
        "\n",
        "An R² close to 1 means very good predictive power; closer to 0 means poor prediction."
      ],
      "metadata": {
        "id": "fkNeHw4aqdcW"
      }
    },
    {
      "cell_type": "markdown",
      "source": [
        "**Ridge, Lasso, and Elastic Net Hyperparameter Tuning**\n",
        "\n",
        "**What is hyperparameter tuning?**\n",
        "\n",
        "Hyperparameters (like alpha or l1_ratio) control how much regularization the model applies.\n",
        "\n",
        "Tuning means systematically trying different values to find the one that gives the best performance (highest R², lowest error) on unseen data.\n",
        "\n",
        "GridSearchCV is used to automate this process.\n",
        "\n",
        "**What did we tune?**\n",
        "\n",
        "Ridge Regression:\n",
        "\n",
        "Tuned alpha (strength of L2 regularization).\n",
        "\n",
        "Lasso Regression:\n",
        "\n",
        "Tuned alpha (strength of L1 regularization).\n",
        "\n",
        "Elastic Net Regression:\n",
        "\n",
        "Tuned both alpha (total regularization strength) and l1_ratio (balance between L1 and L2).\n",
        "\n",
        "**Effect of Tuning in Your Results**\n",
        "\n",
        "1. Ridge Regression\n",
        "Best alpha found: ~0.46\n",
        "\n",
        "Effect: This value gives the best trade-off between model complexity and generalization. Too low = risk of overfitting, too high = model underfits.\n",
        "\n",
        "Result: R² = 0.9713 (almost the same as the default Multiple Linear Regression, because the features are already strong and few).\n",
        "\n",
        "2. Lasso Regression\n",
        "Best alpha found: ~0.06\n",
        "\n",
        "Effect: This value gives the optimal amount of L1 regularization, preventing overfitting but not removing any important features (since all features matter here).\n",
        "\n",
        "Result: R² = 0.9705\n",
        "\n",
        "3. Elastic Net Regression\n",
        "Best alpha: ~0.06\n",
        "\n",
        "Best l1_ratio: 0.9 (almost Lasso-like)\n",
        "\n",
        "Effect: The model leans heavily on L1 regularization, but with a small L2 component. This is suitable when there is potential for both feature selection and coefficient shrinkage, but with your data, it behaves much like Lasso.\n",
        "\n",
        "Result: R² = 0.9699\n",
        "\n",
        "**General Interpretation:**\n",
        "\n",
        "Why did tuning not improve R² much here?\n",
        "\n",
        "Your dataset is simple, with very predictive features and little multicollinearity.\n",
        "\n",
        "Regularization does not need to be aggressive, so R² values stay very close.\n",
        "\n",
        "If you had more variables, noise, or multicollinearity, the effect would be larger.\n",
        "\n",
        "If you used default alpha (1.0) without tuning:\n",
        "\n",
        "The model might over-penalize coefficients, slightly underfit, or perform suboptimally.\n",
        "\n",
        "GridSearchCV ensures you get the best out of your model, even if the improvement is small in this case."
      ],
      "metadata": {
        "id": "j8PEZzmdszl5"
      }
    },
    {
      "cell_type": "markdown",
      "source": [
        "**4. Results & Interpretation**\n",
        "\n",
        "1️⃣ Compare the performance of different models\n",
        "You have already done this!\n",
        "\n",
        "Multiple Linear Regression, Ridge, Lasso, and Elastic Net all have very high R² (≈0.97), while Simple Linear Regression is much lower (R² ≈ 0.72).\n",
        "\n",
        "This shows that using multiple variables gives much better predictive performance."
      ],
      "metadata": {
        "id": "oex3fe8euIoy"
      }
    },
    {
      "cell_type": "markdown",
      "source": [
        "2️⃣ Interpret the coefficients of the best-performing model\n",
        "Here’s how to do it (example code and interpretation):"
      ],
      "metadata": {
        "id": "UqeTnti_uaz2"
      }
    },
    {
      "cell_type": "code",
      "source": [
        "# Assuming your best model is multiple_pipeline\n",
        "feature_names = multiple_pipeline.named_steps[\"pre\"].get_feature_names_out()\n",
        "coefficients = multiple_pipeline.named_steps[\"reg\"].coef_\n",
        "\n",
        "import pandas as pd\n",
        "coef_df = pd.DataFrame({\n",
        "    \"Feature\": feature_names,\n",
        "    \"Coefficient\": coefficients\n",
        "}).sort_values(by=\"Coefficient\", key=abs, ascending=False)\n",
        "\n",
        "print(coef_df)\n"
      ],
      "metadata": {
        "colab": {
          "base_uri": "https://localhost:8080/"
        },
        "id": "_gmth5phue01",
        "outputId": "07d3e926-35d6-45b3-856d-77cda7469b4b"
      },
      "execution_count": null,
      "outputs": [
        {
          "output_type": "stream",
          "name": "stdout",
          "text": [
            "              Feature  Coefficient\n",
            "1         num__Weight    11.398791\n",
            "0         num__Height    -7.396162\n",
            "3    cat__Gender_Male     0.073134\n",
            "2  cat__Gender_Female    -0.073134\n"
          ]
        }
      ]
    },
    {
      "cell_type": "markdown",
      "source": [
        "**Interpretation example:**\n",
        "\n",
        "Weight has a strong positive coefficient: as weight increases, BMI increases.\n",
        "\n",
        "Height has a negative coefficient: for the same weight, taller individuals have lower BMI.\n",
        "\n",
        "Gender has a very small coefficient: gender does not have much impact on BMI in this dataset."
      ],
      "metadata": {
        "id": "C6I3kzZtvaUn"
      }
    },
    {
      "cell_type": "markdown",
      "source": [
        "**3️⃣ Discuss the impact of different features on BMI**\n",
        "\n",
        "The regression analysis indicates that weight is the most significant predictor of BMI, followed by height. As expected, BMI increases with higher body weight and decreases with greater height, since BMI is calculated as weight divided by height squared. Gender does not show a substantial effect on BMI in this particular dataset"
      ],
      "metadata": {
        "id": "XcdAeMwsviDB"
      }
    },
    {
      "cell_type": "markdown",
      "source": [
        "**🎯 Bonus Challenges**\n",
        "\n",
        "**1. Polynomial Regression for Better Accuracy**"
      ],
      "metadata": {
        "id": "08pLJT2DwDr7"
      }
    },
    {
      "cell_type": "code",
      "source": [
        "from sklearn.preprocessing import PolynomialFeatures\n",
        "\n",
        "# Pipeline: Preprocess numerics -> Polynomial features -> Linear Regression\n",
        "poly_pipeline = Pipeline([\n",
        "    (\"pre\", ColumnTransformer([\n",
        "        (\"num_poly\", Pipeline([\n",
        "            (\"poly\", PolynomialFeatures(degree=2, include_bias=False)),\n",
        "            (\"scaler\", StandardScaler())\n",
        "        ]), numeric_features),\n",
        "        (\"cat\", categorical_transformer, categorical_features)\n",
        "    ])),\n",
        "    (\"reg\", LinearRegression())\n",
        "])\n",
        "\n",
        "poly_pipeline.fit(X_train, y_train)\n",
        "preds = poly_pipeline.predict(X_test)\n",
        "\n",
        "# Evaluate\n",
        "r2 = r2_score(y_test, preds)\n",
        "mae = mean_absolute_error(y_test, preds)\n",
        "rmse = np.sqrt(mean_squared_error(y_test, preds))\n",
        "\n",
        "print(\"Polynomial Regression (degree=2):\")\n",
        "print(f\"R² Score : {r2:.4f}\")\n",
        "print(f\"MAE      : {mae:.4f}\")\n",
        "print(f\"RMSE     : {rmse:.4f}\")\n"
      ],
      "metadata": {
        "colab": {
          "base_uri": "https://localhost:8080/"
        },
        "id": "bIYgI8HHwQsi",
        "outputId": "1da89801-85ff-43c6-c793-b07ff6ae0631"
      },
      "execution_count": null,
      "outputs": [
        {
          "output_type": "stream",
          "name": "stdout",
          "text": [
            "Polynomial Regression (degree=2):\n",
            "R² Score : 0.9996\n",
            "MAE      : 0.2497\n",
            "RMSE     : 0.3174\n"
          ]
        }
      ]
    },
    {
      "cell_type": "markdown",
      "source": [
        "**Interpretation:**\n",
        "\n",
        "If R² increases (compared to multiple linear), the relationship is slightly non-linear.\n",
        "\n",
        "If not, linear is enough!"
      ],
      "metadata": {
        "id": "9TtrDuEhwaYu"
      }
    },
    {
      "cell_type": "markdown",
      "source": [
        "**2. Feature Engineering Example**\n",
        "\n",
        "**You can add a new feature:**\n",
        "\n"
      ],
      "metadata": {
        "id": "XEAjQDQ5wghX"
      }
    },
    {
      "cell_type": "markdown",
      "source": [
        "Step-by-Step: Using Engineered Features in Regression Models\n",
        "1. Add Feature to Dataset"
      ],
      "metadata": {
        "id": "BNDNsu-H0oFg"
      }
    },
    {
      "cell_type": "code",
      "source": [
        "df['Weight_Height_Ratio'] = df['Weight'] / df['Height']\n"
      ],
      "metadata": {
        "id": "7OIJsQHczuan"
      },
      "execution_count": null,
      "outputs": []
    },
    {
      "cell_type": "markdown",
      "source": [
        "2. Update Feature List\n",
        "Include the new feature as a numeric variable:"
      ],
      "metadata": {
        "id": "vm6xOCbB0rcZ"
      }
    },
    {
      "cell_type": "code",
      "source": [
        "numeric_features = ['Height', 'Weight', 'Weight_Height_Ratio']  # Add your new feature here\n",
        "categorical_features = ['Gender']\n"
      ],
      "metadata": {
        "id": "Rt2LV8wqz8VF"
      },
      "execution_count": null,
      "outputs": []
    },
    {
      "cell_type": "code",
      "source": [
        "from sklearn.pipeline import Pipeline\n",
        "from sklearn.compose import ColumnTransformer\n",
        "from sklearn.preprocessing import StandardScaler, OneHotEncoder\n",
        "from sklearn.linear_model import LinearRegression\n",
        "from sklearn.model_selection import train_test_split\n",
        "from sklearn.metrics import r2_score, mean_absolute_error, mean_squared_error\n",
        "\n",
        "# Split data\n",
        "X = df.drop(columns=['BMI'])\n",
        "y = df['BMI']\n",
        "X_train, X_test, y_train, y_test = train_test_split(X, y, test_size=0.2, random_state=42)\n",
        "\n",
        "# Redefine preprocessors with the new feature\n",
        "numeric_transformer = Pipeline([(\"scaler\", StandardScaler())])\n",
        "categorical_transformer = Pipeline([(\"onehot\", OneHotEncoder(handle_unknown=\"ignore\"))])\n",
        "preprocessor = ColumnTransformer([\n",
        "    (\"num\", numeric_transformer, numeric_features),\n",
        "    (\"cat\", categorical_transformer, categorical_features)\n",
        "])\n",
        "\n",
        "# Define and fit model\n",
        "pipeline = Pipeline([\n",
        "    (\"pre\", preprocessor),\n",
        "    (\"reg\", LinearRegression())\n",
        "])\n",
        "pipeline.fit(X_train, y_train)\n",
        "\n",
        "# Predict and evaluate\n",
        "preds = pipeline.predict(X_test)\n",
        "r2 = r2_score(y_test, preds)\n",
        "mae = mean_absolute_error(y_test, preds)\n",
        "rmse = np.sqrt(mean_squared_error(y_test, preds))\n",
        "\n",
        "print(\"With engineered feature:\")\n",
        "print(f\"R² Score : {r2:.4f}\")\n",
        "print(f\"MAE      : {mae:.4f}\")\n",
        "print(f\"RMSE     : {rmse:.4f}\")\n"
      ],
      "metadata": {
        "colab": {
          "base_uri": "https://localhost:8080/"
        },
        "id": "Yn53Sh__x-8l",
        "outputId": "da4246fb-f9ea-454c-c4d6-1b58f24f15ad"
      },
      "execution_count": null,
      "outputs": [
        {
          "output_type": "stream",
          "name": "stdout",
          "text": [
            "With engineered feature:\n",
            "R² Score : 0.9995\n",
            "MAE      : 0.2737\n",
            "RMSE     : 0.3385\n"
          ]
        }
      ]
    },
    {
      "cell_type": "markdown",
      "source": [
        "**3. Cross-Validation for Generalizability**"
      ],
      "metadata": {
        "id": "AUeHcEGrxAGT"
      }
    },
    {
      "cell_type": "markdown",
      "source": [
        "Ridge Regression (to handle multicollinearity):\n",
        "Best alpha : 0.46415888336127775\n",
        "R² Score   : 0.9713\n",
        "MAE        : 1.8889\n",
        "RMSE       : 2.5721\n",
        "\n",
        "With engineered feature:\n",
        "R² Score : 0.9995\n",
        "MAE      : 0.2737\n",
        "RMSE     : 0.3385"
      ],
      "metadata": {
        "id": "luSZqNcn2A_A"
      }
    },
    {
      "cell_type": "markdown",
      "source": [
        "**Ridge Regression: Feature Engineering Effect Analysis**\n",
        "\n",
        "**1. Before Feature Engineering (Original Features Only**)\n",
        "\n",
        "R² Score: 0.9713\n",
        "\n",
        "MAE: 1.8889\n",
        "\n",
        "RMSE: 2.5721\n",
        "\n",
        "Interpretation:\n",
        "The model already predicts BMI very well using only Height, Weight, and Gender. Most of the variance in BMI is explained, but there is still a small prediction error.\n",
        "\n",
        "**2. After Adding Engineered Feature (Weight_Height_Ratio)**\n",
        "\n",
        "R² Score: 0.9995\n",
        "\n",
        "MAE: 0.2737\n",
        "\n",
        "RMSE: 0.3385\n",
        "\n",
        "**Interpretation**:\n",
        "\n",
        "R² Score jumps to 0.9995 — meaning the model can now explain 99.95% of the variance in BMI!\n",
        "\n",
        "MAE and RMSE drop drastically (much closer to zero), meaning the average and spread of errors are extremely small.\n",
        "\n",
        "Why did this happen?\n",
        "The engineered feature, Weight_Height_Ratio, is mathematically very close to the BMI formula itself (BMI = Weight / Height²).\n",
        "\n",
        "By giving the model this ratio (even though it is not exactly BMI), you are effectively handing it most of the formula for BMI. This makes it almost trivial for the model to reconstruct BMI with extremely high accuracy.\n",
        "\n",
        "**Is this a good thing?**\n",
        "\n",
        "For a real-world regression challenge, such a dramatic jump signals you may have “leaked” part of the target into the features (sometimes called target leakage).\n",
        "\n",
        "In this context, it shows you deeply understand the mathematical relationship—but in a research or business scenario, you would avoid including features that are direct mathematical transformations of the target."
      ],
      "metadata": {
        "id": "POHRMPt-2l8Y"
      }
    },
    {
      "cell_type": "markdown",
      "source": [
        "**Conclusion:**\n",
        "\n",
        "Feature engineering can vastly improve model performance, especially if you incorporate features closely related to the target.\n",
        "\n",
        "For learning and demo purposes, this is great. For real deployment, beware of overfitting or target leakage."
      ],
      "metadata": {
        "id": "jPIewutF3MLS"
      }
    },
    {
      "cell_type": "code",
      "source": [
        "from sklearn.model_selection import cross_val_score\n",
        "\n",
        "# Use Multiple Linear Regression for CV\n",
        "cv_scores = cross_val_score(multiple_pipeline, X, y, cv=10, scoring='r2')\n",
        "print(\"10-fold CV R² scores:\", cv_scores)\n",
        "print(\"Mean R²:\", np.mean(cv_scores), \"+/-\", np.std(cv_scores))\n"
      ],
      "metadata": {
        "colab": {
          "base_uri": "https://localhost:8080/"
        },
        "id": "mvT6wp2DxF7i",
        "outputId": "0fdf7d8d-c264-481a-f6a7-5d27aa61dd67"
      },
      "execution_count": null,
      "outputs": [
        {
          "output_type": "stream",
          "name": "stdout",
          "text": [
            "10-fold CV R² scores: [0.96566132 0.95395759 0.96240047 0.95800437 0.96637667 0.97151449\n",
            " 0.96630381 0.96544979 0.97294871 0.96929635]\n",
            "Mean R²: 0.9651913563822483 +/- 0.005527920683348868\n"
          ]
        }
      ]
    },
    {
      "cell_type": "markdown",
      "source": [
        "**Interpretation:**\n",
        "\n",
        "The mean and standard deviation show if your model is robust or overfits.\n",
        "\n",
        "If CV mean R² ≈ test set R², your model generalizes well."
      ],
      "metadata": {
        "id": "pmzos5KAxK7t"
      }
    }
  ]
}